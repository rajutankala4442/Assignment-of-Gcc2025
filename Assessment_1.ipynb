{
  "nbformat": 4,
  "nbformat_minor": 0,
  "metadata": {
    "colab": {
      "provenance": [],
      "authorship_tag": "ABX9TyMK90YzwXM9uEi2y8HmKr6U",
      "include_colab_link": true
    },
    "kernelspec": {
      "name": "python3",
      "display_name": "Python 3"
    },
    "language_info": {
      "name": "python"
    }
  },
  "cells": [
    {
      "cell_type": "markdown",
      "metadata": {
        "id": "view-in-github",
        "colab_type": "text"
      },
      "source": [
        "<a href=\"https://colab.research.google.com/github/rajutankala4442/Assignment-of-Gcc2025/blob/main/Assessment_1.ipynb\" target=\"_parent\"><img src=\"https://colab.research.google.com/assets/colab-badge.svg\" alt=\"Open In Colab\"/></a>"
      ]
    },
    {
      "cell_type": "markdown",
      "source": [
        "# *STRINGS*"
      ],
      "metadata": {
        "id": "syiAihPQUSOI"
      }
    },
    {
      "cell_type": "markdown",
      "source": [
        "1.Write a Python program that takes a string as input and prints the reversed version of the string."
      ],
      "metadata": {
        "id": "nZLDRr7xQOG_"
      }
    },
    {
      "cell_type": "markdown",
      "source": [
        "# 1.By slicing"
      ],
      "metadata": {
        "id": "sXUFx_iVQymU"
      }
    },
    {
      "cell_type": "code",
      "source": [
        "a=\"jsjvhdvhgdfsdiufhuhdjvjkhjhfiuhuhuidhkjhfkffiodfifdghoifhgiojgfij\"\n",
        "b=a[::-1]\n",
        "print(b)"
      ],
      "metadata": {
        "colab": {
          "base_uri": "https://localhost:8080/"
        },
        "id": "PGbEqAZ6QTQF",
        "outputId": "5eb2a549-20e5-4efa-ea7a-b46c3701ea00"
      },
      "execution_count": 16,
      "outputs": [
        {
          "output_type": "stream",
          "name": "stdout",
          "text": [
            "jifgjoighfiohgdfifdoiffkfhjkhdiuhuhuifhjhkjvjdhuhfuidsfdghvdhvjsj\n"
          ]
        }
      ]
    },
    {
      "cell_type": "markdown",
      "source": [
        "# 2.opps concept"
      ],
      "metadata": {
        "id": "g9CCIeMqQ4pm"
      }
    },
    {
      "cell_type": "code",
      "source": [
        "def reverse_string(string):\n",
        "    reversed_string = string[::-1]\n",
        "    return reversed_string\n",
        "\n",
        "# Take user input\n",
        "input_string = input(\"Enter a string: \")\n",
        "\n",
        "# Call the function\n",
        "reversed_string = reverse_string(input_string)\n",
        "print(\"Reversed string:\", reversed_string)\n"
      ],
      "metadata": {
        "colab": {
          "base_uri": "https://localhost:8080/"
        },
        "id": "9mQBF3q6RCGv",
        "outputId": "95f358ac-325d-4c8a-a09b-38e492c1cf94"
      },
      "execution_count": 17,
      "outputs": [
        {
          "output_type": "stream",
          "name": "stdout",
          "text": [
            "Enter a string: raju\n",
            "Reversed string: ujar\n"
          ]
        }
      ]
    },
    {
      "cell_type": "markdown",
      "source": [
        "2.Write a Python program that prompts the user to enter a number and then prints whether the number is even or odd."
      ],
      "metadata": {
        "id": "jZsozcAhSa-m"
      }
    },
    {
      "cell_type": "code",
      "source": [
        "number = int(input(\"Enter a number: \"))\n",
        "\n",
        "# Check if the number is even or odd\n",
        "if number % 2 == 0:\n",
        "    print(number, \"is even number.\") #if given number is divisible of 2 is called even number\n",
        "else:\n",
        "    print(number, \"is odd number.\") # if given number is not divisible of 2 is called odd number"
      ],
      "metadata": {
        "colab": {
          "base_uri": "https://localhost:8080/"
        },
        "id": "sf1DLK_kSWcM",
        "outputId": "fcd84edd-b2d7-4f58-8f58-b380404602cb"
      },
      "execution_count": 18,
      "outputs": [
        {
          "output_type": "stream",
          "name": "stdout",
          "text": [
            "Enter a number: 541\n",
            "541 is odd number.\n"
          ]
        }
      ]
    },
    {
      "cell_type": "markdown",
      "source": [
        "3.Write a Python program that calculates the sum of all the digits in a given integer."
      ],
      "metadata": {
        "id": "FGRZC3rfVMrO"
      }
    },
    {
      "cell_type": "code",
      "source": [
        "\n",
        "num = int(input(\"Enter an integer: \"))\n",
        "\n",
        "sum_of_digits =0\n",
        "while num > 0:\n",
        "    digit = num % 10  # Get the last digit\n",
        "    sum_of_digits += digit\n",
        "    num//= 10\n",
        "\n",
        "# Print the sum of the digits\n",
        "print(\"Sum of the digits:\", sum_of_digits)\n"
      ],
      "metadata": {
        "colab": {
          "base_uri": "https://localhost:8080/"
        },
        "id": "uOoywpzMVLPf",
        "outputId": "a0ff1eb5-9d1c-4946-ac57-cacb39cba6b2"
      },
      "execution_count": 19,
      "outputs": [
        {
          "output_type": "stream",
          "name": "stdout",
          "text": [
            "Enter an integer: 151122\n",
            "Sum of the digits: 12\n"
          ]
        }
      ]
    },
    {
      "cell_type": "markdown",
      "source": [
        "#FUNCTIONS"
      ],
      "metadata": {
        "id": "Wyp5WFyFWF_l"
      }
    },
    {
      "cell_type": "markdown",
      "source": [
        "#Using Functions and Modules:\n",
        "4.Write a Python program that defines a function to calculate the factorial of a given number. Use this function to prompt the user for a number and print its factorial"
      ],
      "metadata": {
        "id": "qPsnACr8WeU8"
      }
    },
    {
      "cell_type": "code",
      "source": [
        "def factorial(n):\n",
        "    if n == 0 or n == 1:\n",
        "        return 1\n",
        "    else:\n",
        "        return n * factorial(n - 1)\n",
        "\n",
        "# Prompt the user to enter a number\n",
        "number = int(input(\"Enter a number: \"))\n",
        "\n",
        "# Calculate the factorial using the factorial function\n",
        "result = factorial(number)\n",
        "\n",
        "# Print the factorial\n",
        "print(\"Factorial of\", number, \"is\", result)\n"
      ],
      "metadata": {
        "colab": {
          "base_uri": "https://localhost:8080/"
        },
        "id": "El6ZBTWZW1EV",
        "outputId": "a9f5136e-2c24-467d-c66f-83aa6374ca17"
      },
      "execution_count": 21,
      "outputs": [
        {
          "output_type": "stream",
          "name": "stdout",
          "text": [
            "Enter a number: 1\n",
            "Factorial of 1 is 1\n"
          ]
        }
      ]
    },
    {
      "cell_type": "markdown",
      "source": [
        "5.Write a Python program that takes a sentence as input and counts the number of words in the sentence. Assume that words are separated by spaces. Print the total count of words."
      ],
      "metadata": {
        "id": "ahUkMpa2Y8jK"
      }
    },
    {
      "cell_type": "markdown",
      "source": [
        "# using split method"
      ],
      "metadata": {
        "id": "DLeLXukZWLlm"
      }
    },
    {
      "cell_type": "code",
      "source": [
        "\n",
        "string = input(\"Enter a sentence: \")\n",
        "\n",
        "\n",
        "words = string.split()\n",
        "\n",
        "word_count = len(words)\n",
        "\n",
        "print(\"Total number of words:\", word_count)\n"
      ],
      "metadata": {
        "colab": {
          "base_uri": "https://localhost:8080/"
        },
        "id": "zOVePhD6YJPf",
        "outputId": "8600ccde-286d-4619-d8b5-e118839ed862"
      },
      "execution_count": 22,
      "outputs": [
        {
          "output_type": "stream",
          "name": "stdout",
          "text": [
            "Enter a sentence: raju is good boy \n",
            "Total number of words: 4\n"
          ]
        }
      ]
    },
    {
      "cell_type": "code",
      "source": [
        "\n",
        "sentence = input(\"Enter a sentence: \")\n",
        "\n",
        "\n",
        "word_count = 0\n",
        "\n",
        "for i in range(len(sentence)):\n",
        "\n",
        "    if sentence[i] == ' ':\n",
        "\n",
        "        word_count += 1\n",
        "\n",
        "\n",
        "word_count += 1\n",
        "\n",
        "\n",
        "print(\"Total number of words:\", word_count)\n"
      ],
      "metadata": {
        "colab": {
          "base_uri": "https://localhost:8080/"
        },
        "id": "Z9q3OkH3YvZ0",
        "outputId": "50a18146-6e8d-4f0f-d5dd-6276b2008b75"
      },
      "execution_count": 23,
      "outputs": [
        {
          "output_type": "stream",
          "name": "stdout",
          "text": [
            "Enter a sentence: raju is good boy\n",
            "Total number of words: 4\n"
          ]
        }
      ]
    }
  ]
}