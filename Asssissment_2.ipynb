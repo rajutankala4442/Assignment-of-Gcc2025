{
  "nbformat": 4,
  "nbformat_minor": 0,
  "metadata": {
    "colab": {
      "provenance": [],
      "authorship_tag": "ABX9TyPneN9wBf3RdfPQaLYZvLcm",
      "include_colab_link": true
    },
    "kernelspec": {
      "name": "python3",
      "display_name": "Python 3"
    },
    "language_info": {
      "name": "python"
    }
  },
  "cells": [
    {
      "cell_type": "markdown",
      "metadata": {
        "id": "view-in-github",
        "colab_type": "text"
      },
      "source": [
        "<a href=\"https://colab.research.google.com/github/rajutankala4442/Assignment-of-Gcc2025/blob/main/Asssissment_2.ipynb\" target=\"_parent\"><img src=\"https://colab.research.google.com/assets/colab-badge.svg\" alt=\"Open In Colab\"/></a>"
      ]
    },
    {
      "cell_type": "markdown",
      "source": [
        "# While Loop"
      ],
      "metadata": {
        "id": "zKAifGZfbMOl"
      }
    },
    {
      "cell_type": "markdown",
      "source": [
        "1.Write a Python program that prompts the user to enter a number. Use a while loop to continuously ask the user for a number until they enter a negative number.Print the sum of all the positive numbers entered."
      ],
      "metadata": {
        "id": "KUC2wYiEbSh3"
      }
    },
    {
      "cell_type": "code",
      "execution_count": 6,
      "metadata": {
        "colab": {
          "base_uri": "https://localhost:8080/"
        },
        "id": "lKrxz9LSa9hD",
        "outputId": "a35b0fd6-93d6-452c-bc6f-27ccf9c3aede"
      },
      "outputs": [
        {
          "output_type": "stream",
          "name": "stdout",
          "text": [
            "Enter a number: 5\n",
            "Enter a number: -7\n",
            "Sum of positive numbers entered: 5\n"
          ]
        }
      ],
      "source": [
        "sum_of_positive_numbers = 0\n",
        "\n",
        "while True:\n",
        "    number = int(input(\"Enter a number: \"))\n",
        "    if number < 0:\n",
        "        break\n",
        "    if number > 0:\n",
        "        sum_of_positive_numbers += number\n",
        "\n",
        "print(\"Sum of positive numbers entered:\", sum_of_positive_numbers)\n"
      ]
    },
    {
      "cell_type": "markdown",
      "source": [
        "# For Loop\n",
        "2.Write a Python program that uses a for loop to print the numbers from 1 to 10."
      ],
      "metadata": {
        "id": "PEriQWUZbLCV"
      }
    },
    {
      "cell_type": "code",
      "source": [
        "for number in range(1, 11):\n",
        "    print(number)"
      ],
      "metadata": {
        "colab": {
          "base_uri": "https://localhost:8080/"
        },
        "id": "x2VFb-kEhmH-",
        "outputId": "e214c764-2e3a-4f11-ef37-f542fb859cd2"
      },
      "execution_count": 7,
      "outputs": [
        {
          "output_type": "stream",
          "name": "stdout",
          "text": [
            "1\n",
            "2\n",
            "3\n",
            "4\n",
            "5\n",
            "6\n",
            "7\n",
            "8\n",
            "9\n",
            "10\n"
          ]
        }
      ]
    },
    {
      "cell_type": "code",
      "source": [
        "for number in range(1, 11):\n",
        "    print(number,end=\" \")"
      ],
      "metadata": {
        "colab": {
          "base_uri": "https://localhost:8080/"
        },
        "id": "431cCz8chpuQ",
        "outputId": "cf7e0132-bf6e-4b71-c7f2-b4a63fae5af8"
      },
      "execution_count": 8,
      "outputs": [
        {
          "output_type": "stream",
          "name": "stdout",
          "text": [
            "1 2 3 4 5 6 7 8 9 10 "
          ]
        }
      ]
    },
    {
      "cell_type": "markdown",
      "source": [
        "# Calculating A Running Total:\n",
        "3.Write a Python program that prompts the user to enter a series of numbers. Use a while loop to keep asking for numbers until the user enters 0. Print the sum of all the numbers entered."
      ],
      "metadata": {
        "id": "7lknwkIbh4W4"
      }
    },
    {
      "cell_type": "code",
      "source": [
        "sum_of_numbers = 0\n",
        "\n",
        "while True:\n",
        "    number = int(input(\"Enter a number (enter 0 to exit): \"))\n",
        "    if number == 0:\n",
        "        break\n",
        "    sum_of_numbers += number\n",
        "\n",
        "print(\"Sum of all the numbers entered:\", sum_of_numbers)\n"
      ],
      "metadata": {
        "colab": {
          "base_uri": "https://localhost:8080/"
        },
        "id": "H-oyhvTEissY",
        "outputId": "a7867fa7-4831-4f68-f8cf-881d8a998592"
      },
      "execution_count": 9,
      "outputs": [
        {
          "output_type": "stream",
          "name": "stdout",
          "text": [
            "Enter a number (enter 0 to exit): 5\n",
            "Enter a number (enter 0 to exit): 2\n",
            "Enter a number (enter 0 to exit): 0\n",
            "Sum of all the numbers entered: 7\n"
          ]
        }
      ]
    },
    {
      "cell_type": "markdown",
      "source": [
        "# Input Validation Loops:\n",
        "3.Write a Python program that prompts the user to enter a password. Use a while loop to keep asking for the password until the user enters the correct password. Once the correct password is entered, print a success message."
      ],
      "metadata": {
        "id": "ZDGrxF2EjLu0"
      }
    },
    {
      "cell_type": "code",
      "source": [
        "password = \"Raju@4442\"\n",
        "\n",
        "while True:\n",
        "    user_password = input(\"Enter the password: \")\n",
        "    if user_password == password:\n",
        "        print(\"Success! Correct password entered.\")\n",
        "        break\n",
        "    else:\n",
        "        print(\"Incorrect password. Please try again.\")\n"
      ],
      "metadata": {
        "colab": {
          "base_uri": "https://localhost:8080/"
        },
        "id": "f0jhResIjWcV",
        "outputId": "bfb5885f-776f-4176-c87b-d1bfee01b7cb"
      },
      "execution_count": 11,
      "outputs": [
        {
          "output_type": "stream",
          "name": "stdout",
          "text": [
            "Enter the password: Raju@4442\n",
            "Success! Correct password entered.\n"
          ]
        }
      ]
    },
    {
      "cell_type": "markdown",
      "source": [
        "# Nested Loop"
      ],
      "metadata": {
        "id": "d01T7jx7lSvc"
      }
    },
    {
      "cell_type": "code",
      "source": [
        "rows = int(input(\"Enter the number of rows: \"))\n",
        "\n",
        "for i in range(1, rows + 1):\n",
        "    for j in range(i):\n",
        "        print(\"*\", end=\"\")\n",
        "    print()"
      ],
      "metadata": {
        "colab": {
          "base_uri": "https://localhost:8080/"
        },
        "id": "Igi7dmewlPDY",
        "outputId": "3fecd022-fa4b-4998-859f-79c6b18305a3"
      },
      "execution_count": 12,
      "outputs": [
        {
          "output_type": "stream",
          "name": "stdout",
          "text": [
            "Enter the number of rows: 4\n",
            "*\n",
            "**\n",
            "***\n",
            "****\n"
          ]
        }
      ]
    }
  ]
}