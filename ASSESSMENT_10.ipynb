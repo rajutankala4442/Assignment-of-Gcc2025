{
  "nbformat": 4,
  "nbformat_minor": 0,
  "metadata": {
    "colab": {
      "provenance": [],
      "authorship_tag": "ABX9TyM94eqeMuM27s9wW4ngwbXO",
      "include_colab_link": true
    },
    "kernelspec": {
      "name": "python3",
      "display_name": "Python 3"
    },
    "language_info": {
      "name": "python"
    }
  },
  "cells": [
    {
      "cell_type": "markdown",
      "metadata": {
        "id": "view-in-github",
        "colab_type": "text"
      },
      "source": [
        "<a href=\"https://colab.research.google.com/github/rajutankala4442/Assignment-of-Gcc2025/blob/main/ASSESSMENT_10.ipynb\" target=\"_parent\"><img src=\"https://colab.research.google.com/assets/colab-badge.svg\" alt=\"Open In Colab\"/></a>"
      ]
    },
    {
      "cell_type": "markdown",
      "source": [
        "#1. Bubble Sort:"
      ],
      "metadata": {
        "id": "c431crAb-fY6"
      }
    },
    {
      "cell_type": "code",
      "execution_count": 1,
      "metadata": {
        "colab": {
          "base_uri": "https://localhost:8080/"
        },
        "id": "A9_9stt--dxy",
        "outputId": "bf63b87c-a30d-4c6e-b919-d3573630602a"
      },
      "outputs": [
        {
          "output_type": "stream",
          "name": "stdout",
          "text": [
            "[4, 5, 24, 55, 122, 222]\n"
          ]
        }
      ],
      "source": [
        "def sort(A):\n",
        "  for i in range(len(A)-1,0,-1):\n",
        "    for j in range(i):\n",
        "      if A[j]>A[j+1]:\n",
        "        temp=A[j]\n",
        "        A[j]=A[j+1]\n",
        "        A[j+1]=temp\n",
        "\n",
        "\n",
        "A=[5,4,222,24,55,122]\n",
        "sort(A)\n",
        "print(A)"
      ]
    },
    {
      "cell_type": "markdown",
      "source": [
        "#2. Merge Sort:"
      ],
      "metadata": {
        "id": "K-wcsp1R-f2x"
      }
    },
    {
      "cell_type": "code",
      "source": [
        "def merge_sort(A):\n",
        "  if len(A)>1:\n",
        "    left_A=A[:len(A)//2]\n",
        "    right_A=A[len(A)//2:]\n",
        "\n",
        "    #recursion\n",
        "    merge_sort(left_A)\n",
        "    merge_sort(right_A)\n",
        "\n",
        "\n",
        "    # merge\n",
        "    i=0\n",
        "    j=0\n",
        "    k=0\n",
        "    while i<len(left_A) and j<len(right_A):\n",
        "      if left_A[i]<right_A[j]:\n",
        "        A[k]=left_A[i]\n",
        "        i+=1\n",
        "      else:\n",
        "        A[k]=right_A[j]\n",
        "        j+=1\n",
        "      k+=1\n",
        "\n",
        "    while i < len(left_A):\n",
        "       A[k] = left_A[i]\n",
        "       i+=1\n",
        "       k+=1\n",
        "\n",
        "    while j< len(right_A):\n",
        "       A[k]=right_A[j]\n",
        "       j+=1\n",
        "       k+=1\n",
        "\n",
        "\n",
        "A=[55,5,45,11,2,5,6,4,444,88,52]\n",
        "merge_sort(A)\n",
        "print(A)"
      ],
      "metadata": {
        "colab": {
          "base_uri": "https://localhost:8080/"
        },
        "id": "q0_wq7eh-gUN",
        "outputId": "701e2043-8e9c-4f00-d740-d572862fa4f3"
      },
      "execution_count": 2,
      "outputs": [
        {
          "output_type": "stream",
          "name": "stdout",
          "text": [
            "[2, 4, 5, 5, 6, 11, 45, 52, 55, 88, 444]\n"
          ]
        }
      ]
    },
    {
      "cell_type": "markdown",
      "source": [
        "#3. Insertion Sort:"
      ],
      "metadata": {
        "id": "LghIBspz-gxa"
      }
    },
    {
      "cell_type": "code",
      "source": [
        "def insertion_sort(A):\n",
        "  for i in range(len(A)):\n",
        "    j=i\n",
        "    while A[j-1]>A[j] and j>0:\n",
        "      A[j-1],A[j]=A[j],A[j-1]\n",
        "      j-=1\n",
        "\n",
        "A=[4,5,22,1,6,3,11,84,558,2]\n",
        "insertion_sort(A)\n",
        "print(A)\n"
      ],
      "metadata": {
        "colab": {
          "base_uri": "https://localhost:8080/"
        },
        "id": "6Ufdo_LQ-hNQ",
        "outputId": "14ebe7f3-81e5-4713-da46-5920eb05f10c"
      },
      "execution_count": 3,
      "outputs": [
        {
          "output_type": "stream",
          "name": "stdout",
          "text": [
            "[1, 2, 3, 4, 5, 6, 11, 22, 84, 558]\n"
          ]
        }
      ]
    },
    {
      "cell_type": "markdown",
      "source": [
        "#4. Shell Sort"
      ],
      "metadata": {
        "id": "TqXMfP19-hs5"
      }
    },
    {
      "cell_type": "code",
      "source": [
        "def shell_sort(numbers):\n",
        "    n = len(numbers)\n",
        "    gap = n // 2\n",
        "\n",
        "    while gap > 0:\n",
        "        for i in range(gap, n):\n",
        "            temp = numbers[i]\n",
        "            j = i\n",
        "            while j >= gap and numbers[j - gap] > temp:\n",
        "                numbers[j] = numbers[j - gap]\n",
        "                j -= gap\n",
        "            numbers[j] = temp\n",
        "        gap //= 2\n",
        "\n",
        "# Example usage\n",
        "input_numbers = input(\"Enter a list of numbers separated by spaces: \")\n",
        "numbers = [int(x) for x in input_numbers.split()]\n",
        "\n",
        "shell_sort(numbers)\n",
        "\n",
        "print(\"Sorted list:\")\n",
        "print(numbers)\n"
      ],
      "metadata": {
        "colab": {
          "base_uri": "https://localhost:8080/"
        },
        "id": "Wr8yMNIR-iIR",
        "outputId": "3a4f0859-dd7d-4941-ce24-fd99d3d6e7e5"
      },
      "execution_count": 4,
      "outputs": [
        {
          "output_type": "stream",
          "name": "stdout",
          "text": [
            "Enter a list of numbers separated by spaces: 5  5 1  5 21 56 7 55 48 42 58 8 5 7\n",
            "Sorted list:\n",
            "[1, 5, 5, 5, 5, 7, 7, 8, 21, 42, 48, 55, 56, 58]\n"
          ]
        }
      ]
    },
    {
      "cell_type": "markdown",
      "source": [
        "#5. Selection Sort:"
      ],
      "metadata": {
        "id": "KftnapGf-iuF"
      }
    },
    {
      "cell_type": "code",
      "source": [
        "def sort(A):\n",
        "\n",
        "  for i in range(len(A)-1):\n",
        "\n",
        "    minpos=i\n",
        "    for j in range(i,len(A)):\n",
        "      if A[j]<A[minpos]:\n",
        "        minpos=j\n",
        "\n",
        "\n",
        "    temp=A[i]\n",
        "    A[i]=A[minpos]\n",
        "    A[minpos]=temp\n",
        "\n",
        "\n",
        "A=[2,4,33,6,77,45,23]\n",
        "sort(A)\n",
        "\n",
        "print(A)"
      ],
      "metadata": {
        "colab": {
          "base_uri": "https://localhost:8080/"
        },
        "id": "gSf8Pzj9-jZm",
        "outputId": "f5496974-c9b4-441d-9ccb-270768ca3c76"
      },
      "execution_count": 5,
      "outputs": [
        {
          "output_type": "stream",
          "name": "stdout",
          "text": [
            "[2, 4, 6, 23, 33, 45, 77]\n"
          ]
        }
      ]
    }
  ]
}