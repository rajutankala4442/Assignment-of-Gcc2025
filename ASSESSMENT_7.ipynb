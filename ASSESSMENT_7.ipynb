{
  "nbformat": 4,
  "nbformat_minor": 0,
  "metadata": {
    "colab": {
      "provenance": [],
      "authorship_tag": "ABX9TyO8KQFcLpDizG3h0J8VuQHC",
      "include_colab_link": true
    },
    "kernelspec": {
      "name": "python3",
      "display_name": "Python 3"
    },
    "language_info": {
      "name": "python"
    }
  },
  "cells": [
    {
      "cell_type": "markdown",
      "metadata": {
        "id": "view-in-github",
        "colab_type": "text"
      },
      "source": [
        "<a href=\"https://colab.research.google.com/github/rajutankala4442/Assignment-of-Gcc2025/blob/main/ASSESSMENT_7.ipynb\" target=\"_parent\"><img src=\"https://colab.research.google.com/assets/colab-badge.svg\" alt=\"Open In Colab\"/></a>"
      ]
    },
    {
      "cell_type": "code",
      "execution_count": 1,
      "metadata": {
        "colab": {
          "base_uri": "https://localhost:8080/"
        },
        "id": "okValfpaooyi",
        "outputId": "68e7d7d2-fe83-41d9-aaea-67d0de8e7ff5"
      },
      "outputs": [
        {
          "output_type": "stream",
          "name": "stdout",
          "text": [
            "Raju\n",
            "25\n",
            "Balu\n",
            "30\n",
            "Gopi\n",
            "35\n"
          ]
        }
      ],
      "source": [
        "class Person:\n",
        "    def __init__(self, name, age):\n",
        "        self.name = name\n",
        "        self.age = age\n",
        "\n",
        "# Create instances of the Person class\n",
        "person1 = Person(\"Raju\", 25)\n",
        "person2 = Person(\"Balu\", 30)\n",
        "person3 = Person(\"Gopi\", 35)\n",
        "\n",
        "# Access attributes of the Person instances\n",
        "print(person1.name)\n",
        "print(person1.age)\n",
        "\n",
        "print(person2.name)\n",
        "print(person2.age)\n",
        "\n",
        "print(person3.name)\n",
        "print(person3.age)\n"
      ]
    },
    {
      "cell_type": "code",
      "source": [
        "class Car:\n",
        "    total_cars = 0\n",
        "\n",
        "    def __init__(self, make, model, year):\n",
        "        self.make = make\n",
        "        self.model = model\n",
        "        self.year = year\n",
        "        Car.total_cars += 1\n",
        "\n",
        "    def __del__(self):\n",
        "        Car.total_cars -= 1\n",
        "        print(f\"A {self.year} {self.make} {self.model} has been destroyed.\")\n",
        "\n",
        "# Create car objects\n",
        "car1 = Car(\"Toyota\", \"Camry\", 2020)\n",
        "car2 = Car(\"Honda\", \"Civic\", 2018)\n",
        "car3 = Car(\"Ford\", \"Mustang\", 2015)\n",
        "\n",
        "# Print the total number of cars\n",
        "print(f\"Total Cars: {Car.total_cars}\")  # Output: Total Cars: 3\n",
        "\n",
        "# Destroy a car object\n",
        "del car2  # Output: A 2018 Honda Civic has been destroyed.\n",
        "\n",
        "# Print the updated total number of cars\n",
        "print(f\"Total Cars: {Car.total_cars}\")  # Output: Total Cars: 2\n"
      ],
      "metadata": {
        "colab": {
          "base_uri": "https://localhost:8080/"
        },
        "id": "eHvxhDVtpvO-",
        "outputId": "942c9583-6bb3-4a0f-f469-43fcdf6542c0"
      },
      "execution_count": 2,
      "outputs": [
        {
          "output_type": "stream",
          "name": "stdout",
          "text": [
            "Total Cars: 3\n",
            "A 2018 Honda Civic has been destroyed.\n",
            "Total Cars: 2\n"
          ]
        }
      ]
    },
    {
      "cell_type": "code",
      "source": [
        "class Student:\n",
        "    def __init__(self, student_id, name):\n",
        "        self.student_id = student_id\n",
        "        self.name = name\n",
        "        self.enrolled_courses = []\n",
        "\n",
        "    def enroll_course(self, course):\n",
        "        if course not in self.enrolled_courses:\n",
        "            self.enrolled_courses.append(course)\n",
        "            print(f\"{self.name} enrolled in the course: {course.title}\")\n",
        "        else:\n",
        "            print(f\"{self.name} is already enrolled in the course: {course.title}\")\n",
        "\n",
        "    def drop_course(self, course):\n",
        "        if course in self.enrolled_courses:\n",
        "            self.enrolled_courses.remove(course)\n",
        "            print(f\"{self.name} dropped the course: {course.title}\")\n",
        "        else:\n",
        "            print(f\"{self.name} is not enrolled in the course: {course.title}\")\n",
        "\n",
        "\n",
        "class Course:\n",
        "    def __init__(self, course_id, title):\n",
        "        self.course_id = course_id\n",
        "        self.title = title\n",
        "\n",
        "\n",
        "# Create students\n",
        "student1 = Student(1, \"Alice\")\n",
        "student2 = Student(2, \"Bob\")\n",
        "\n",
        "# Create courses\n",
        "course1 = Course(101, \"Mathematics\")\n",
        "course2 = Course(102, \"Science\")\n",
        "\n",
        "# Enroll students in courses\n",
        "student1.enroll_course(course1)  # Output: Alice enrolled in the course: Mathematics\n",
        "student1.enroll_course(course2)  # Output: Alice enrolled in the course: Science\n",
        "student2.enroll_course(course1)  # Output: Bob enrolled in the course: Mathematics\n",
        "\n",
        "student1.enroll_course(course1)\n",
        "\n",
        "student1.drop_course(course2)\n",
        "\n",
        "\n",
        "student2.drop_course(course2)"
      ],
      "metadata": {
        "colab": {
          "base_uri": "https://localhost:8080/"
        },
        "id": "e1_htIVZpvLn",
        "outputId": "d02ae105-f364-4f74-e332-5ac7546503dc"
      },
      "execution_count": 3,
      "outputs": [
        {
          "output_type": "stream",
          "name": "stdout",
          "text": [
            "Alice enrolled in the course: Mathematics\n",
            "Alice enrolled in the course: Science\n",
            "Bob enrolled in the course: Mathematics\n",
            "Alice is already enrolled in the course: Mathematics\n",
            "Alice dropped the course: Science\n",
            "Bob is not enrolled in the course: Science\n"
          ]
        }
      ]
    },
    {
      "cell_type": "code",
      "source": [
        "class Shape:\n",
        "    def calculate_area(self):\n",
        "        pass\n",
        "\n",
        "    def calculate_perimeter(self):\n",
        "        pass\n",
        "\n",
        "    def __lt__(self, other):\n",
        "        return self.calculate_area() < other.calculate_area()\n",
        "\n",
        "    def __eq__(self, other):\n",
        "        return self.calculate_area() == other.calculate_area()\n",
        "\n",
        "\n",
        "class Rectangle(Shape):\n",
        "    def __init__(self, length, width):\n",
        "        self.length = length\n",
        "        self.width = width\n",
        "\n",
        "    def calculate_area(self):\n",
        "        return self.length * self.width\n",
        "\n",
        "    def calculate_perimeter(self):\n",
        "        return 2 * (self.length + self.width)\n",
        "\n",
        "\n",
        "class Circle(Shape):\n",
        "    def __init__(self, radius):\n",
        "        self.radius = radius\n",
        "\n",
        "    def calculate_area(self):\n",
        "        return 3.14159 * self.radius**2\n",
        "\n",
        "    def calculate_perimeter(self):\n",
        "        return 2 * 3.14159 * self.radius\n",
        "\n",
        "\n",
        "# Create rectangle and circle objects\n",
        "rectangle1 = Rectangle(4, 5)\n",
        "rectangle2 = Rectangle(3, 6)\n",
        "circle1 = Circle(3.5)\n",
        "circle2 = Circle(2.5)\n",
        "\n",
        "# Calculate and compare areas\n",
        "print(rectangle1.calculate_area())  # Output: 20\n",
        "print(circle1.calculate_area())     # Output: 38.484975\n",
        "\n",
        "print(rectangle1 < rectangle2)  # Output: False\n",
        "print(circle1 == circle2)      # Output: False\n",
        "print(rectangle1 > circle1)    # Output: True\n"
      ],
      "metadata": {
        "colab": {
          "base_uri": "https://localhost:8080/"
        },
        "id": "ZXDOvV0UpvJk",
        "outputId": "150d2e20-8b97-47f4-bd9c-b5e933008493"
      },
      "execution_count": 4,
      "outputs": [
        {
          "output_type": "stream",
          "name": "stdout",
          "text": [
            "20\n",
            "38.4844775\n",
            "False\n",
            "False\n",
            "False\n"
          ]
        }
      ]
    },
    {
      "cell_type": "code",
      "source": [
        "class Employee:\n",
        "    def __init__(self, name, designation):\n",
        "        self.name = name\n",
        "        self.designation = designation\n",
        "        self.additional_attributes = {}\n",
        "\n",
        "    def add_attribute(self, attribute_name, attribute_value):\n",
        "        self.additional_attributes[attribute_name] = attribute_value\n",
        "\n",
        "    def get_attribute(self, attribute_name):\n",
        "        return self.additional_attributes.get(attribute_name)\n",
        "\n",
        "\n",
        "# Create an employee object\n",
        "employee = Employee(\"John Doe\", \"Manager\")\n",
        "\n",
        "# Add additional attributes\n",
        "employee.add_attribute(\"age\", 30)\n",
        "employee.add_attribute(\"salary\", 50000)\n",
        "\n",
        "# Retrieve additional attributes\n",
        "age = employee.get_attribute(\"age\")\n",
        "salary = employee.get_attribute(\"salary\")\n",
        "\n",
        "print(age)      # Output: 30\n",
        "print(salary)   # Output: 50000\n"
      ],
      "metadata": {
        "colab": {
          "base_uri": "https://localhost:8080/"
        },
        "id": "jKjEpjO_pvHt",
        "outputId": "b49c4638-d383-4391-8368-480acfceb15e"
      },
      "execution_count": 5,
      "outputs": [
        {
          "output_type": "stream",
          "name": "stdout",
          "text": [
            "30\n",
            "50000\n"
          ]
        }
      ]
    },
    {
      "cell_type": "code",
      "source": [
        "class Account:\n",
        "    def __init__(self, account_number, pin, balance):\n",
        "        self.account_number = account_number\n",
        "        self.pin = pin\n",
        "        self.balance = balance\n",
        "\n",
        "    def check_balance(self):\n",
        "        return self.balance\n",
        "\n",
        "    def withdraw(self, amount):\n",
        "        if self.balance >= amount:\n",
        "            self.balance -= amount\n",
        "            return amount\n",
        "        else:\n",
        "            return 0\n",
        "\n",
        "    def deposit(self, amount):\n",
        "        self.balance += amount\n",
        "        return amount\n",
        "\n",
        "\n",
        "class ATM:\n",
        "    def __init__(self):\n",
        "        self.accounts = {}\n",
        "\n",
        "    def add_account(self, account):\n",
        "        self.accounts[account.account_number] = account\n",
        "\n",
        "    def authenticate(self, account_number, pin):\n",
        "        if account_number in self.accounts:\n",
        "            account = self.accounts[account_number]\n",
        "            if account.pin == pin:\n",
        "                return account\n",
        "        return None\n",
        "\n",
        "    def balance_inquiry(self, account):\n",
        "        return account.check_balance()\n",
        "\n",
        "    def withdraw_cash(self, account, amount):\n",
        "        if account:\n",
        "            return account.withdraw(amount)\n",
        "        return 0\n",
        "\n",
        "    def deposit_cash(self, account, amount):\n",
        "        if account:\n",
        "            return account.deposit(amount)\n",
        "        return 0\n",
        "\n",
        "\n",
        "# Create accounts\n",
        "account1 = Account(\"123456789\", \"1234\", 1000)\n",
        "account2 = Account(\"987654321\", \"4321\", 500)\n",
        "\n",
        "# Create ATM machine\n",
        "atm = ATM()\n",
        "\n",
        "# Add accounts to the ATM machine\n",
        "atm.add_account(account1)\n",
        "atm.add_account(account2)\n",
        "\n",
        "# Simulate ATM operations\n",
        "account_number = \"123456789\"\n",
        "pin = \"1234\"\n",
        "\n",
        "# Authenticate account\n",
        "account = atm.authenticate(account_number, pin)\n",
        "if account:\n",
        "    # Balance inquiry\n",
        "    print(\"Balance:\", atm.balance_inquiry(account))  # Output: Balance: 1000\n",
        "\n",
        "    # Withdraw cash\n",
        "    amount_to_withdraw = 500\n",
        "    withdrawn_amount = atm.withdraw_cash(account, amount_to_withdraw)\n",
        "    if withdrawn_amount:\n",
        "        print(\"Withdrawn amount:\", withdrawn_amount)  # Output: Withdrawn amount: 500\n",
        "        print(\"Updated balance:\", atm.balance_inquiry(account))  # Output: Updated balance: 500\n",
        "    else:\n",
        "        print(\"Insufficient balance.\")\n",
        "\n",
        "    # Deposit cash\n",
        "    amount_to_deposit = 300\n",
        "    deposited_amount = atm.deposit_cash(account, amount_to_deposit)\n",
        "    if deposited_amount:\n",
        "        print(\"Deposited amount:\", deposited_amount)  # Output: Deposited amount: 300\n",
        "        print(\"Updated balance:\", atm.balance_inquiry(account))  # Output: Updated balance: 800\n",
        "else:\n",
        "    print(\"Invalid account number or PIN.\")\n"
      ],
      "metadata": {
        "colab": {
          "base_uri": "https://localhost:8080/"
        },
        "id": "3vJPj8XepvGY",
        "outputId": "aa7a8d63-8f4b-4d0d-9ca5-34818946268f"
      },
      "execution_count": 6,
      "outputs": [
        {
          "output_type": "stream",
          "name": "stdout",
          "text": [
            "Balance: 1000\n",
            "Withdrawn amount: 500\n",
            "Updated balance: 500\n",
            "Deposited amount: 300\n",
            "Updated balance: 800\n"
          ]
        }
      ]
    },
    {
      "cell_type": "code",
      "source": [],
      "metadata": {
        "id": "KtPfzkszpvDe"
      },
      "execution_count": null,
      "outputs": []
    }
  ]
}