{
  "nbformat": 4,
  "nbformat_minor": 0,
  "metadata": {
    "colab": {
      "provenance": [],
      "authorship_tag": "ABX9TyMhidC7bUiP2rdFLyizPC/g",
      "include_colab_link": true
    },
    "kernelspec": {
      "name": "python3",
      "display_name": "Python 3"
    },
    "language_info": {
      "name": "python"
    }
  },
  "cells": [
    {
      "cell_type": "markdown",
      "metadata": {
        "id": "view-in-github",
        "colab_type": "text"
      },
      "source": [
        "<a href=\"https://colab.research.google.com/github/rajutankala4442/Assignment-of-Gcc2025/blob/main/Assessment_for_29_06_2023.ipynb\" target=\"_parent\"><img src=\"https://colab.research.google.com/assets/colab-badge.svg\" alt=\"Open In Colab\"/></a>"
      ]
    },
    {
      "cell_type": "markdown",
      "source": [
        "#1. Array Manipulation with Slicing and Indexing:"
      ],
      "metadata": {
        "id": "PLiWrJEXpA_x"
      }
    },
    {
      "cell_type": "code",
      "execution_count": 2,
      "metadata": {
        "colab": {
          "base_uri": "https://localhost:8080/"
        },
        "id": "sAwVjsAEo_Vn",
        "outputId": "f8222b0d-962f-4763-87b2-d5dddabd64d9"
      },
      "outputs": [
        {
          "output_type": "stream",
          "name": "stdout",
          "text": [
            "[0 1 2 3 4 5 6 7 8 9]\n",
            "0\n",
            "9\n",
            "[1 2 3 4]\n",
            "[5 6 7 8 9]\n"
          ]
        }
      ],
      "source": [
        "import numpy as np\n",
        "a = np.arange(10)\n",
        "print(a)\n",
        "print(a[0])\n",
        "print(a[-1])\n",
        "print(a[1:5])\n",
        "print(a[-5:])"
      ]
    },
    {
      "cell_type": "markdown",
      "source": [
        "#2. Data Type Conversion and Shape Manipulation:"
      ],
      "metadata": {
        "id": "ayXTEK2JqPDK"
      }
    },
    {
      "cell_type": "code",
      "source": [
        "import numpy as np\n",
        "a = np.arange(10, dtype=np.float32)\n",
        "print(a)\n",
        "a = a.astype(np.int32)\n",
        "print(a)\n",
        "a = a.reshape((2, 5))\n",
        "print(a)"
      ],
      "metadata": {
        "colab": {
          "base_uri": "https://localhost:8080/"
        },
        "id": "1eSGXNO8qR33",
        "outputId": "b198ac0d-8ddd-476d-dba0-eb0236765390"
      },
      "execution_count": 3,
      "outputs": [
        {
          "output_type": "stream",
          "name": "stdout",
          "text": [
            "[0. 1. 2. 3. 4. 5. 6. 7. 8. 9.]\n",
            "[0 1 2 3 4 5 6 7 8 9]\n",
            "[[0 1 2 3 4]\n",
            " [5 6 7 8 9]]\n"
          ]
        }
      ]
    },
    {
      "cell_type": "markdown",
      "source": [
        "#3. Iterating over an Array:"
      ],
      "metadata": {
        "id": "sBPu2crMqO2O"
      }
    },
    {
      "cell_type": "code",
      "source": [
        "import numpy as np\n",
        "a = np.arange(10)\n",
        "print(a)\n",
        "for i in range(len(a)):\n",
        "    a[i] = a[i] * 2\n",
        "print(a)\n",
        "\n"
      ],
      "metadata": {
        "colab": {
          "base_uri": "https://localhost:8080/"
        },
        "id": "yI8K6rWarHkd",
        "outputId": "398e3069-8de1-49eb-909d-6275e7e736ef"
      },
      "execution_count": 9,
      "outputs": [
        {
          "output_type": "stream",
          "name": "stdout",
          "text": [
            "[0 1 2 3 4 5 6 7 8 9]\n",
            "[ 0  2  4  6  8 10 12 14 16 18]\n"
          ]
        }
      ]
    },
    {
      "cell_type": "markdown",
      "source": [
        "#4. Joining and Splitting Arrays:"
      ],
      "metadata": {
        "id": "cznxNDQmq41w"
      }
    },
    {
      "cell_type": "code",
      "source": [
        "import numpy as np\n",
        "\n",
        "def main():\n",
        "    # Create two NumPy arrays\n",
        "    array1 = np.array([[1, 2, 3],\n",
        "                       [4, 5, 6]])\n",
        "\n",
        "    array2 = np.array([[7, 8, 9],\n",
        "                       [10, 11, 12]])\n",
        "\n",
        "    print(\"Array 1:\")\n",
        "    print(array1)\n",
        "    print(\"Array 2:\")\n",
        "    print(array2)\n",
        "\n",
        "    # Join arrays horizontally\n",
        "    horizontal_join = np.hstack((array1, array2))\n",
        "    print(\"\\nJoined Horizontally:\")\n",
        "    print(horizontal_join)\n",
        "\n",
        "    # Join arrays vertically\n",
        "    vertical_join = np.vstack((array1, array2))\n",
        "    print(\"\\nJoined Vertically:\")\n",
        "    print(vertical_join)\n",
        "\n",
        "    # Split the resulting array into subarrays\n",
        "    subarrays = np.split(vertical_join, 2)\n",
        "    print(\"\\nSplit Subarrays:\")\n",
        "    for i, subarray in enumerate(subarrays):\n",
        "        print(f\"Subarray {i+1}:\")\n",
        "        print(subarray)\n",
        "\n",
        "if __name__ == \"__main__\":\n",
        "    main()\n"
      ],
      "metadata": {
        "colab": {
          "base_uri": "https://localhost:8080/"
        },
        "id": "9AESzkrZwNoR",
        "outputId": "1270b35b-1ca2-4444-d20e-cd4463c5431b"
      },
      "execution_count": 13,
      "outputs": [
        {
          "output_type": "stream",
          "name": "stdout",
          "text": [
            "Array 1:\n",
            "[[1 2 3]\n",
            " [4 5 6]]\n",
            "Array 2:\n",
            "[[ 7  8  9]\n",
            " [10 11 12]]\n",
            "\n",
            "Joined Horizontally:\n",
            "[[ 1  2  3  7  8  9]\n",
            " [ 4  5  6 10 11 12]]\n",
            "\n",
            "Joined Vertically:\n",
            "[[ 1  2  3]\n",
            " [ 4  5  6]\n",
            " [ 7  8  9]\n",
            " [10 11 12]]\n",
            "\n",
            "Split Subarrays:\n",
            "Subarray 1:\n",
            "[[1 2 3]\n",
            " [4 5 6]]\n",
            "Subarray 2:\n",
            "[[ 7  8  9]\n",
            " [10 11 12]]\n"
          ]
        }
      ]
    },
    {
      "cell_type": "markdown",
      "source": [
        "#5. Searching, Sorting, and Filtering Arrays:"
      ],
      "metadata": {
        "id": "HK2cxMsSvh7C"
      }
    },
    {
      "cell_type": "code",
      "source": [
        "import numpy as np\n",
        "# Create a NumPy array of integers\n",
        "a = np.array([1, 2, 3, 4, 5, 6, 7, 8, 9])\n",
        "# Search for the element 5 in the array\n",
        "b = np.where(a == 5)\n",
        "# Sort the array in ascending order\n",
        "c = np.sort(a)\n",
        "# Filter out the elements that are less than 5\n",
        "d = a[a >= 5]\n",
        "# Print the results\n",
        "print(b)\n",
        "print(c)\n",
        "print(d)"
      ],
      "metadata": {
        "colab": {
          "base_uri": "https://localhost:8080/"
        },
        "id": "9TKlbuGpvi38",
        "outputId": "c15462a0-b4ed-4645-c3e3-1a7ee1834dfc"
      },
      "execution_count": 14,
      "outputs": [
        {
          "output_type": "stream",
          "name": "stdout",
          "text": [
            "(array([4]),)\n",
            "[1 2 3 4 5 6 7 8 9]\n",
            "[5 6 7 8 9]\n"
          ]
        }
      ]
    },
    {
      "cell_type": "markdown",
      "source": [
        "#6. Randomization and Universal Functions:"
      ],
      "metadata": {
        "id": "17RPo9TgvhzS"
      }
    },
    {
      "cell_type": "code",
      "source": [
        "import numpy as np\n",
        "a = np.random.randint(10, size=10)\n",
        "# Print the array\n",
        "print(a)\n",
        "print(np.sum(a))\n",
        "print(np.mean(a))\n",
        "print(np.max(a))\n",
        "print(np.min(a))"
      ],
      "metadata": {
        "colab": {
          "base_uri": "https://localhost:8080/"
        },
        "id": "IpGxQsvoycJa",
        "outputId": "3eada09a-2f71-4dd5-c39c-1c2d7539a652"
      },
      "execution_count": 15,
      "outputs": [
        {
          "output_type": "stream",
          "name": "stdout",
          "text": [
            "[6 6 1 0 4 6 7 2 5 3]\n",
            "40\n",
            "4.0\n",
            "7\n",
            "0\n"
          ]
        }
      ]
    }
  ]
}