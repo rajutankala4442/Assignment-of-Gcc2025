{
  "nbformat": 4,
  "nbformat_minor": 0,
  "metadata": {
    "colab": {
      "provenance": [],
      "authorship_tag": "ABX9TyNiQAH1HHofg1YkMHpwh4Cl",
      "include_colab_link": true
    },
    "kernelspec": {
      "name": "python3",
      "display_name": "Python 3"
    },
    "language_info": {
      "name": "python"
    }
  },
  "cells": [
    {
      "cell_type": "markdown",
      "metadata": {
        "id": "view-in-github",
        "colab_type": "text"
      },
      "source": [
        "<a href=\"https://colab.research.google.com/github/rajutankala4442/Assignment-of-Gcc2025/blob/main/ASSESSMENT_08.ipynb\" target=\"_parent\"><img src=\"https://colab.research.google.com/assets/colab-badge.svg\" alt=\"Open In Colab\"/></a>"
      ]
    },
    {
      "cell_type": "markdown",
      "source": [
        "# 1. Linear Search:"
      ],
      "metadata": {
        "id": "tRu3nyrIzsSP"
      }
    },
    {
      "cell_type": "code",
      "execution_count": 1,
      "metadata": {
        "colab": {
          "base_uri": "https://localhost:8080/"
        },
        "id": "tRarjhUHzobs",
        "outputId": "fe1645ae-3fe2-41ab-ca22-fa466f8fd37f"
      },
      "outputs": [
        {
          "output_type": "stream",
          "name": "stdout",
          "text": [
            "is found\n"
          ]
        }
      ],
      "source": [
        "def search(list,n):\n",
        "\n",
        "  i= 0\n",
        "  while i < len(list):\n",
        "    if list[i]==n:\n",
        "      return True\n",
        "      i=i+1\n",
        "  return False\n",
        "\n",
        "list=[2,3,5,11,0]\n",
        "n=2\n",
        "\n",
        "if search(list,n):\n",
        "  print(\"is found\")\n",
        "else:\n",
        "  print(\"is not found\")"
      ]
    },
    {
      "cell_type": "markdown",
      "source": [
        "# 2. Interpolation Search:"
      ],
      "metadata": {
        "id": "itkMnX-rzs2j"
      }
    },
    {
      "cell_type": "code",
      "source": [
        "def interpolation_search(numbers, target):\n",
        "    low = 0\n",
        "    high = len(numbers) - 1\n",
        "\n",
        "    while low <= high and numbers[low] <= target <= numbers[high]:\n",
        "        if low == high:\n",
        "            if numbers[low] == target:\n",
        "                return True\n",
        "            return False\n",
        "\n",
        "        pos = low + ((target - numbers[low]) * (high - low)) // (numbers[high] - numbers[low])\n",
        "\n",
        "        if numbers[pos] == target:\n",
        "            return True\n",
        "        elif numbers[pos] < target:\n",
        "            low = pos + 1\n",
        "        else:\n",
        "            high = pos - 1\n",
        "\n",
        "    return False\n",
        "\n",
        "# Input sorted list of numbers\n",
        "numbers = input(\"Enter a sorted list of numbers (space-separated): \").split()\n",
        "numbers = [int(number) for number in numbers]\n",
        "\n",
        "# Input target number\n",
        "target = int(input(\"Enter the target number: \"))\n",
        "\n",
        "# Perform interpolation search\n",
        "if interpolation_search(numbers, target):\n",
        "    print(\"Found\")\n",
        "else:\n",
        "    print(\"Not found\")\n"
      ],
      "metadata": {
        "colab": {
          "base_uri": "https://localhost:8080/"
        },
        "id": "8-2eSy7VztPQ",
        "outputId": "08cf02ac-689a-4690-892b-3f424bc98153"
      },
      "execution_count": 2,
      "outputs": [
        {
          "output_type": "stream",
          "name": "stdout",
          "text": [
            "Enter a sorted list of numbers (space-separated): 4 5 5 1 2 4\n",
            "Enter the target number: 1 \n",
            "Not found\n"
          ]
        }
      ]
    },
    {
      "cell_type": "markdown",
      "source": [
        "#3. Binary Search:"
      ],
      "metadata": {
        "id": "Sb72GlfezuGu"
      }
    },
    {
      "cell_type": "code",
      "source": [
        "pos= -1\n",
        "def search(list,n):\n",
        "  l=0\n",
        "  u=len(list)-1\n",
        "  while l<=u:\n",
        "    mid=(l+u)//2\n",
        "\n",
        "    if list[mid]==n:\n",
        "      globals()['pos']=mid\n",
        "      return True\n",
        "    else:\n",
        "      if list[mid] < n:\n",
        "        l=mid+1\n",
        "      else:\n",
        "        u=mid-1\n",
        "  return False\n",
        "\n",
        "\n",
        "\n",
        "\n",
        "list=[2,15,44,87,111,221,1056,20564,30045,111111,22222222,555566664]\n",
        "n=111\n",
        "if search(list,n):\n",
        "  print(\"is found at\",pos+1)\n",
        "else:\n",
        "  print(\"is not found\")"
      ],
      "metadata": {
        "colab": {
          "base_uri": "https://localhost:8080/"
        },
        "id": "4wXfSKnozup3",
        "outputId": "b1b8afcd-9fb4-4de9-cd89-4c5926b19ee1"
      },
      "execution_count": 4,
      "outputs": [
        {
          "output_type": "stream",
          "name": "stdout",
          "text": [
            "is found at 5\n"
          ]
        }
      ]
    },
    {
      "cell_type": "markdown",
      "source": [
        "#4. Counting Occurrences with Linear Search:"
      ],
      "metadata": {
        "id": "NovVBAqBzvW5"
      }
    },
    {
      "cell_type": "code",
      "source": [
        "def linear_search_count(numbers, target):\n",
        "    count = 0\n",
        "    for number in numbers:\n",
        "        if number == target:\n",
        "            count += 1\n",
        "    return count\n",
        "\n",
        "# Input list of numbers\n",
        "numbers = input(\"Enter a list of numbers (space-separated): \").split()\n",
        "numbers = [int(number) for number in numbers]\n",
        "\n",
        "# Input target number\n",
        "target = int(input(\"Enter the target number: \"))\n",
        "\n",
        "# Perform linear search and count occurrences\n",
        "count = linear_search_count(numbers, target)\n",
        "\n",
        "# Print the count\n",
        "print(\"Number of occurrences:\", count)\n"
      ],
      "metadata": {
        "colab": {
          "base_uri": "https://localhost:8080/"
        },
        "id": "VeeNEzuhzvw8",
        "outputId": "79c2b4fe-e7de-4ffd-aad8-41270fff7aa8"
      },
      "execution_count": 6,
      "outputs": [
        {
          "output_type": "stream",
          "name": "stdout",
          "text": [
            "Enter a list of numbers (space-separated): 2 5 4 2 5 5 8 7\n",
            "Enter the target number: 5\n",
            "Number of occurrences: 3\n"
          ]
        }
      ]
    },
    {
      "cell_type": "markdown",
      "source": [
        "#5. Searching within a Range with Binary Search:"
      ],
      "metadata": {
        "id": "vd6hZic2zweB"
      }
    },
    {
      "cell_type": "code",
      "source": [
        "def binary_search(numbers, target, start, end):\n",
        "    while start <= end:\n",
        "        mid = (start + end) // 2\n",
        "\n",
        "        if numbers[mid] == target:\n",
        "            return True\n",
        "        elif numbers[mid] < target:\n",
        "            start = mid + 1\n",
        "        else:\n",
        "            end = mid - 1\n",
        "\n",
        "    return False\n",
        "\n",
        "# Input sorted list of numbers\n",
        "numbers = input(\"Enter a sorted list of numbers (space-separated): \").split()\n",
        "numbers = [int(number) for number in numbers]\n",
        "\n",
        "# Input range\n",
        "start = int(input(\"Enter the start value of the range: \"))\n",
        "end = int(input(\"Enter the end value of the range: \"))\n",
        "\n",
        "# Input target number\n",
        "target = int(input(\"Enter the target number: \"))\n",
        "\n",
        "# Perform binary search within the specified range\n",
        "if binary_search(numbers, target, start, end):\n",
        "    print(\"Found\")\n",
        "else:\n",
        "    print(\"Not found\")\n"
      ],
      "metadata": {
        "colab": {
          "base_uri": "https://localhost:8080/"
        },
        "id": "mnnVt_xuzw9j",
        "outputId": "7b791bfe-a27e-4318-9af6-de42ea0d32bc"
      },
      "execution_count": 7,
      "outputs": [
        {
          "output_type": "stream",
          "name": "stdout",
          "text": [
            "Enter a sorted list of numbers (space-separated): 5 5 1 2 3 4 6\n",
            "Enter the start value of the range: 2 \n",
            "Enter the end value of the range: 6\n",
            "Enter the target number: 5\n",
            "Not found\n"
          ]
        }
      ]
    }
  ]
}