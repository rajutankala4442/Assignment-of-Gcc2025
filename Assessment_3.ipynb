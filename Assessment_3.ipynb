{
  "nbformat": 4,
  "nbformat_minor": 0,
  "metadata": {
    "colab": {
      "provenance": [],
      "authorship_tag": "ABX9TyPd4JrjPxLxluQM3df4IcWg",
      "include_colab_link": true
    },
    "kernelspec": {
      "name": "python3",
      "display_name": "Python 3"
    },
    "language_info": {
      "name": "python"
    }
  },
  "cells": [
    {
      "cell_type": "markdown",
      "metadata": {
        "id": "view-in-github",
        "colab_type": "text"
      },
      "source": [
        "<a href=\"https://colab.research.google.com/github/rajutankala4442/Assignment-of-Gcc2025/blob/main/Assessment_3.ipynb\" target=\"_parent\"><img src=\"https://colab.research.google.com/assets/colab-badge.svg\" alt=\"Open In Colab\"/></a>"
      ]
    },
    {
      "cell_type": "code",
      "execution_count": 1,
      "metadata": {
        "colab": {
          "base_uri": "https://localhost:8080/"
        },
        "id": "usYq3me0lq69",
        "outputId": "7414fe9a-6859-4c11-97f2-548af19ac66d"
      },
      "outputs": [
        {
          "output_type": "stream",
          "name": "stdout",
          "text": [
            "Enter a word: raju\n",
            "First character: r\n",
            "Enter the start index: 0\n",
            "Enter the end index: 2\n",
            "Substring: ra\n"
          ]
        }
      ],
      "source": [
        "word = input(\"Enter a word: \")\n",
        "print(\"First character:\", word[0])\n",
        "\n",
        "start_index = int(input(\"Enter the start index: \"))\n",
        "end_index = int(input(\"Enter the end index: \"))\n",
        "\n",
        "substring = word[start_index:end_index]\n",
        "print(\"Substring:\", substring)\n"
      ]
    },
    {
      "cell_type": "code",
      "source": [
        "message = input(\"Enter a message: \")\n",
        "shift = int(input(\"Enter the shift value: \"))\n",
        "\n",
        "encrypted_message = \"\"\n",
        "\n",
        "for char in message:\n",
        "    if char.isalpha():\n",
        "        ascii_offset = 65 if char.isupper() else 97\n",
        "        encrypted_char = chr((ord(char) - ascii_offset + shift) % 26 + ascii_offset)\n",
        "        encrypted_message += encrypted_char\n",
        "    else:\n",
        "        encrypted_message += char\n",
        "\n",
        "print(\"Encrypted message:\", encrypted_message)\n"
      ],
      "metadata": {
        "colab": {
          "base_uri": "https://localhost:8080/"
        },
        "id": "l510Aro4ohWs",
        "outputId": "f33380d9-cbbc-4c4f-a0d5-52f351ada166"
      },
      "execution_count": 2,
      "outputs": [
        {
          "output_type": "stream",
          "name": "stdout",
          "text": [
            "Enter a message: hi raju\n",
            "Enter the shift value: 5\n",
            "Encrypted message: mn wfoz\n"
          ]
        }
      ]
    },
    {
      "cell_type": "code",
      "source": [
        "binary_number = input(\"Enter a binary number: \")\n",
        "\n",
        "decimal_number = 0\n",
        "power = len(binary_number) - 1\n",
        "\n",
        "for digit in binary_number:\n",
        "    decimal_number += int(digit) * (2 ** power)\n",
        "    power -= 1\n",
        "\n",
        "print(\"Decimal equivalent:\", decimal_number)\n"
      ],
      "metadata": {
        "colab": {
          "base_uri": "https://localhost:8080/"
        },
        "id": "k0DJ_iEJqA3h",
        "outputId": "ba39f150-ed37-4764-fa31-57caede9cafd"
      },
      "execution_count": 4,
      "outputs": [
        {
          "output_type": "stream",
          "name": "stdout",
          "text": [
            "Enter a binary number: 2\n",
            "Decimal equivalent: 2\n"
          ]
        }
      ]
    },
    {
      "cell_type": "code",
      "source": [
        "sentence = input(\"Enter a sentence: \")\n",
        "word = input(\"Enter a word to count: \")\n",
        "\n",
        "count = sentence.lower().count(word.lower())\n",
        "\n",
        "print(\"Number of occurrences:\", count)\n"
      ],
      "metadata": {
        "colab": {
          "base_uri": "https://localhost:8080/"
        },
        "id": "uDhI2Kt1qlDs",
        "outputId": "cb5ceb43-077b-4498-8398-04af8794cd22"
      },
      "execution_count": 8,
      "outputs": [
        {
          "output_type": "stream",
          "name": "stdout",
          "text": [
            "Enter a sentence: i have pen and pen\n",
            "Enter a word to count: pen\n",
            "Number of occurrences: 2\n"
          ]
        }
      ]
    },
    {
      "cell_type": "code",
      "source": [
        "\n",
        "word_counts = {}\n",
        "\n",
        "file_name = input(\"Enter the name of the text file: \")\n",
        "\n",
        "# Open the file in read mode\n",
        "with open(file_name, 'r') as file:\n",
        "    # Read each line in the file\n",
        "    for line in file:\n",
        "        # Remove leading and trailing whitespace\n",
        "        line = line.strip()\n",
        "        # Split the line into words\n",
        "        words = line.split()\n",
        "\n",
        "        # Count the occurrences of each word\n",
        "        for word in words:\n",
        "            if word in word_counts:\n",
        "                word_counts[word] += 1\n",
        "            else:\n",
        "                word_counts[word] = 1\n",
        "\n",
        "# Print the word counts\n",
        "for word, count in word_counts.items():\n",
        "    print(word, \"-\", count)\n"
      ],
      "metadata": {
        "id": "j7t3sYrSqkj-"
      },
      "execution_count": null,
      "outputs": []
    },
    {
      "cell_type": "code",
      "source": [
        "from google.colab import drive\n",
        "drive.mount('/content/drive')"
      ],
      "metadata": {
        "id": "QTCu3PKztWnZ"
      },
      "execution_count": null,
      "outputs": []
    },
    {
      "cell_type": "markdown",
      "source": [
        "# New Section"
      ],
      "metadata": {
        "id": "i8GmtedutNwN"
      }
    }
  ]
}