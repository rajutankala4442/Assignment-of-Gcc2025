{
  "nbformat": 4,
  "nbformat_minor": 0,
  "metadata": {
    "colab": {
      "provenance": [],
      "include_colab_link": true
    },
    "kernelspec": {
      "name": "python3",
      "display_name": "Python 3"
    },
    "language_info": {
      "name": "python"
    }
  },
  "cells": [
    {
      "cell_type": "markdown",
      "metadata": {
        "id": "view-in-github",
        "colab_type": "text"
      },
      "source": [
        "<a href=\"https://colab.research.google.com/github/rajutankala4442/Assignment-of-Gcc2025/blob/main/Assessment_for_30_06_2023.ipynb\" target=\"_parent\"><img src=\"https://colab.research.google.com/assets/colab-badge.svg\" alt=\"Open In Colab\"/></a>"
      ]
    },
    {
      "cell_type": "markdown",
      "source": [
        "#1. Introduction to DataFrames:\n",
        "Write a Python program that imports the pandas library and creates a DataFrame from a dictionary. Print the DataFrame and access specific columns and rows."
      ],
      "metadata": {
        "id": "ozQJBcIW4aW-"
      }
    },
    {
      "cell_type": "code",
      "source": [
        "import pandas as pd\n",
        "data={'Name':[\"A\",\"B\",\"C\",\"D\",\"E\"],\n",
        "      'Age':[18,20,26,19,23],\n",
        "      'City':[\"Kakinada\",\"Hyderabad\",\"Mumbai\",\"Bengaluru\",\"Chennai\"]\n",
        "}\n",
        "df=pd.DataFrame(data)\n",
        "print(df)\n",
        "#access specific columns\n",
        "print(df['Name'])\n",
        "print(df['Age'])\n",
        "#access specific rows\n",
        "print(df.loc[0])\n",
        "print(df.loc[2])"
      ],
      "metadata": {
        "colab": {
          "base_uri": "https://localhost:8080/"
        },
        "id": "9XFbNmvk4aEP",
        "outputId": "e930f13a-504c-474c-fbf6-541f1cd90eef"
      },
      "execution_count": null,
      "outputs": [
        {
          "output_type": "stream",
          "name": "stdout",
          "text": [
            "  Name  Age       City\n",
            "0    A   18   Kakinada\n",
            "1    B   20  Hyderabad\n",
            "2    C   26     Mumbai\n",
            "3    D   19  Bengaluru\n",
            "4    E   23    Chennai\n",
            "0    A\n",
            "1    B\n",
            "2    C\n",
            "3    D\n",
            "4    E\n",
            "Name: Name, dtype: object\n",
            "0    18\n",
            "1    20\n",
            "2    26\n",
            "3    19\n",
            "4    23\n",
            "Name: Age, dtype: int64\n",
            "Name           A\n",
            "Age           18\n",
            "City    Kakinada\n",
            "Name: 0, dtype: object\n",
            "Name         C\n",
            "Age         26\n",
            "City    Mumbai\n",
            "Name: 2, dtype: object\n"
          ]
        }
      ]
    },
    {
      "cell_type": "markdown",
      "source": [
        "#2. Series and DataFrame Manipulation:\n",
        "Write a Python program that creates a Series and a DataFrame. Perform operations such as adding new columns, filtering rows, and computing summary statistics on the DataFrame."
      ],
      "metadata": {
        "id": "PGZQgB6f4ZPq"
      }
    },
    {
      "cell_type": "code",
      "source": [
        "import pandas as pd\n",
        "a=pd.Series([10,20,30,40,50])\n",
        "df=pd.DataFrame({'A':[1,2,3,4,5],\n",
        "                 'B':[6,7,8,9,10]})\n",
        "df['C']=a\n",
        "b=df[df['A']>2]\n",
        "c=df.describe()\n",
        "print(df)\n",
        "print(b)\n",
        "print(c)"
      ],
      "metadata": {
        "colab": {
          "base_uri": "https://localhost:8080/"
        },
        "id": "A_p_vY9t4ZC4",
        "outputId": "3779741f-0a8f-457f-cabb-d818c502d64c"
      },
      "execution_count": null,
      "outputs": [
        {
          "output_type": "stream",
          "name": "stdout",
          "text": [
            "   A   B   C\n",
            "0  1   6  10\n",
            "1  2   7  20\n",
            "2  3   8  30\n",
            "3  4   9  40\n",
            "4  5  10  50\n",
            "   A   B   C\n",
            "2  3   8  30\n",
            "3  4   9  40\n",
            "4  5  10  50\n",
            "              A          B          C\n",
            "count  5.000000   5.000000   5.000000\n",
            "mean   3.000000   8.000000  30.000000\n",
            "std    1.581139   1.581139  15.811388\n",
            "min    1.000000   6.000000  10.000000\n",
            "25%    2.000000   7.000000  20.000000\n",
            "50%    3.000000   8.000000  30.000000\n",
            "75%    4.000000   9.000000  40.000000\n",
            "max    5.000000  10.000000  50.000000\n"
          ]
        }
      ]
    },
    {
      "cell_type": "markdown",
      "source": [
        "#3. Reading and Analyzing DataFrames:\n",
        "\n",
        "Write a Python program that reads a CSV file into a DataFrame using pandas. Analyze the DataFrame by computing descriptive statistics, identifying missing values, and summarizing categorical variables."
      ],
      "metadata": {
        "id": "c3O4hYRV4Yuz"
      }
    },
    {
      "cell_type": "code",
      "source": [
        "import pandas as pd\n",
        "from google.colab import drive\n",
        "drive.mount('/content/drive')\n",
        "filepath='/content/drive/MyDrive/ds_salaries.csv'\n",
        "#read a CSV file into a dataframe\n",
        "df = pd.read_csv(filepath)\n",
        "#compute descriptive statistics\n",
        "a= df.describe()\n",
        "#identify missing values\n",
        "b= df.isnull().sum()\n",
        "#summarize categorical variables\n",
        "c= df['job_title'].value_counts()\n",
        "#print the analysis results\n",
        "print(a)\n",
        "print(b)\n",
        "print(c)\n"
      ],
      "metadata": {
        "colab": {
          "base_uri": "https://localhost:8080/"
        },
        "id": "ckRX0gXt4Yhf",
        "outputId": "5cd598c7-3312-406b-93a5-e7c5d74cb46b"
      },
      "execution_count": null,
      "outputs": [
        {
          "output_type": "stream",
          "name": "stdout",
          "text": [
            "Drive already mounted at /content/drive; to attempt to forcibly remount, call drive.mount(\"/content/drive\", force_remount=True).\n",
            "         work_year        salary  salary_in_usd  remote_ratio\n",
            "count  3755.000000  3.755000e+03    3755.000000   3755.000000\n",
            "mean   2022.373635  1.906956e+05  137570.389880     46.271638\n",
            "std       0.691448  6.716765e+05   63055.625278     48.589050\n",
            "min    2020.000000  6.000000e+03    5132.000000      0.000000\n",
            "25%    2022.000000  1.000000e+05   95000.000000      0.000000\n",
            "50%    2022.000000  1.380000e+05  135000.000000      0.000000\n",
            "75%    2023.000000  1.800000e+05  175000.000000    100.000000\n",
            "max    2023.000000  3.040000e+07  450000.000000    100.000000\n",
            "work_year             0\n",
            "experience_level      0\n",
            "employment_type       0\n",
            "job_title             0\n",
            "salary                0\n",
            "salary_currency       0\n",
            "salary_in_usd         0\n",
            "employee_residence    0\n",
            "remote_ratio          0\n",
            "company_location      0\n",
            "company_size          0\n",
            "dtype: int64\n",
            "Data Engineer                          1040\n",
            "Data Scientist                          840\n",
            "Data Analyst                            612\n",
            "Machine Learning Engineer               289\n",
            "Analytics Engineer                      103\n",
            "                                       ... \n",
            "Principal Machine Learning Engineer       1\n",
            "Azure Data Engineer                       1\n",
            "Manager Data Management                   1\n",
            "Marketing Data Engineer                   1\n",
            "Finance Data Analyst                      1\n",
            "Name: job_title, Length: 93, dtype: int64\n"
          ]
        }
      ]
    },
    {
      "cell_type": "markdown",
      "source": [
        "#4. Data Preprocessing and Cleaning:\n",
        "\n",
        "Write a Python program that preprocesses a DataFrame by handling missing values, removing duplicates, and converting data types. Clean the DataFrame to make it ready for further analysis."
      ],
      "metadata": {
        "id": "kcNj2JIS4YNN"
      }
    },
    {
      "cell_type": "code",
      "execution_count": null,
      "metadata": {
        "colab": {
          "base_uri": "https://localhost:8080/"
        },
        "id": "9QwAzvpX4SFw",
        "outputId": "f19991cc-1328-4ccc-99ac-39cc38ef378b"
      },
      "outputs": [
        {
          "output_type": "stream",
          "name": "stdout",
          "text": [
            "      work_year experience_level employment_type                 job_title  \\\n",
            "0          2023               SE              FT  Principal Data Scientist   \n",
            "1          2023               MI              CT               ML Engineer   \n",
            "2          2023               MI              CT               ML Engineer   \n",
            "3          2023               SE              FT            Data Scientist   \n",
            "4          2023               SE              FT            Data Scientist   \n",
            "...         ...              ...             ...                       ...   \n",
            "3750       2020               SE              FT            Data Scientist   \n",
            "3751       2021               MI              FT  Principal Data Scientist   \n",
            "3752       2020               EN              FT            Data Scientist   \n",
            "3753       2020               EN              CT     Business Data Analyst   \n",
            "3754       2021               SE              FT      Data Science Manager   \n",
            "\n",
            "         salary salary_currency  salary_in_usd employee_residence  \\\n",
            "0       80000.0             EUR          85847                 ES   \n",
            "1       30000.0             USD          30000                 US   \n",
            "2       25500.0             USD          25500                 US   \n",
            "3      175000.0             USD         175000                 CA   \n",
            "4      120000.0             USD         120000                 CA   \n",
            "...         ...             ...            ...                ...   \n",
            "3750   412000.0             USD         412000                 US   \n",
            "3751   151000.0             USD         151000                 US   \n",
            "3752   105000.0             USD         105000                 US   \n",
            "3753   100000.0             USD         100000                 US   \n",
            "3754  7000000.0             INR          94665                 IN   \n",
            "\n",
            "      remote_ratio company_location company_size  \n",
            "0              100               ES            L  \n",
            "1              100               US            S  \n",
            "2              100               US            S  \n",
            "3              100               CA            M  \n",
            "4              100               CA            M  \n",
            "...            ...              ...          ...  \n",
            "3750           100               US            L  \n",
            "3751           100               US            L  \n",
            "3752           100               US            S  \n",
            "3753           100               US            L  \n",
            "3754            50               IN            L  \n",
            "\n",
            "[3755 rows x 11 columns]\n"
          ]
        }
      ],
      "source": [
        "import pandas as pd\n",
        "\n",
        "#preprocess dataframe by handling missing values,duplicates,and data type conversion\n",
        "df.dropna()  # Drop rows with missing values\n",
        "df.drop_duplicates()  # Remove duplicate rows\n",
        "df['salary'] = df['salary'].astype(float)\n",
        "\n",
        "# Cleaned DataFrame\n",
        "cleaned_df = df\n",
        "print(cleaned_df)"
      ]
    },
    {
      "cell_type": "markdown",
      "source": [
        "#5. Correlations and Plotting:\n",
        "\n",
        "Write a Python program that calculates correlations between columns in a DataFrame and visualizes the relationships using scatter plots or correlation heatmaps.\n"
      ],
      "metadata": {
        "id": "lLCViCmj4sG6"
      }
    },
    {
      "cell_type": "code",
      "source": [
        "import pandas as pd\n",
        "import seaborn as sns\n",
        "import matplotlib.pyplot as plt\n",
        "df = pd.read_csv(filepath)\n",
        "#calculate correlations between columns\n",
        "correlations = df.corr()\n",
        "#print the correlation matrix\n",
        "print(\"Correlation Matrix:\")\n",
        "print(correlations)\n",
        "#visualize correlations using a correlation heatmap\n",
        "sns.heatmap(correlations, annot=True, cmap='coolwarm')\n",
        "plt.title('Correlation Heatmap')\n",
        "plt.show()"
      ],
      "metadata": {
        "colab": {
          "base_uri": "https://localhost:8080/",
          "height": 611
        },
        "id": "QNbTKHFY4scF",
        "outputId": "118ebefa-5dc6-4daf-d275-d2d5b42d6f9a"
      },
      "execution_count": null,
      "outputs": [
        {
          "output_type": "stream",
          "name": "stdout",
          "text": [
            "Correlation Matrix:\n",
            "               work_year    salary  salary_in_usd  remote_ratio\n",
            "work_year       1.000000 -0.094724       0.228290     -0.236430\n",
            "salary         -0.094724  1.000000      -0.023676      0.028731\n",
            "salary_in_usd   0.228290 -0.023676       1.000000     -0.064171\n",
            "remote_ratio   -0.236430  0.028731      -0.064171      1.000000\n"
          ]
        },
        {
          "output_type": "stream",
          "name": "stderr",
          "text": [
            "<ipython-input-26-28fe39e3ba93>:6: FutureWarning: The default value of numeric_only in DataFrame.corr is deprecated. In a future version, it will default to False. Select only valid columns or specify the value of numeric_only to silence this warning.\n",
            "  correlations = df.corr()\n"
          ]
        },
        {
          "output_type": "display_data",
          "data": {
            "text/plain": [
              "<Figure size 640x480 with 2 Axes>"
            ],
            "image/png": "[encoded data removed]"
          },
          "metadata": {}
        }
      ]
    }
  ]
}