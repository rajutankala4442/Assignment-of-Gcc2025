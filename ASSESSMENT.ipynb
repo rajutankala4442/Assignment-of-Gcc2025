{
  "nbformat": 4,
  "nbformat_minor": 0,
  "metadata": {
    "colab": {
      "provenance": [],
      "authorship_tag": "ABX9TyN6oI0l0LivoqswmUyBeJnv",
      "include_colab_link": true
    },
    "kernelspec": {
      "name": "python3",
      "display_name": "Python 3"
    },
    "language_info": {
      "name": "python"
    }
  },
  "cells": [
    {
      "cell_type": "markdown",
      "metadata": {
        "id": "view-in-github",
        "colab_type": "text"
      },
      "source": [
        "<a href=\"https://colab.research.google.com/github/rajutankala4442/Assignment-of-Gcc2025/blob/main/ASSESSMENT.ipynb\" target=\"_parent\"><img src=\"https://colab.research.google.com/assets/colab-badge.svg\" alt=\"Open In Colab\"/></a>"
      ]
    },
    {
      "cell_type": "markdown",
      "source": [
        "#1. Accessing Character and Substring in Strings:\n",
        "Write a Python program that prompts the user to enter a word. Print the first character of the word. Then, ask the user for a start index and an end index. Finally, print the substring of the word based on the provided indices."
      ],
      "metadata": {
        "id": "-sBEJA4K1Kg9"
      }
    },
    {
      "cell_type": "code",
      "execution_count": 1,
      "metadata": {
        "colab": {
          "base_uri": "https://localhost:8080/"
        },
        "id": "rG693p3Q0XIw",
        "outputId": "28843ccb-745f-4232-bd15-cabcee3b696d"
      },
      "outputs": [
        {
          "output_type": "stream",
          "name": "stdout",
          "text": [
            "Enter a word: RAJU\n",
            "First character: R\n",
            "Enter the start index: 2\n",
            "Enter the end index: 3\n",
            "Substring: J\n"
          ]
        }
      ],
      "source": [
        "word = input(\"Enter a word: \")\n",
        "print(\"First character:\", word[0])\n",
        "\n",
        "start_index = int(input(\"Enter the start index: \"))\n",
        "end_index = int(input(\"Enter the end index: \"))\n",
        "\n",
        "substring = word[start_index:end_index]\n",
        "print(\"Substring:\", substring)\n",
        "\n"
      ]
    },
    {
      "cell_type": "markdown",
      "source": [
        "#2.Data Encryption:\n",
        "Write a Python program that prompts the user to enter a message. Encrypt the message by shifting each character by a certain number of positions (e.g., shifting 'a' by 3 positions will result in 'd'). Print the encrypted message."
      ],
      "metadata": {
        "id": "ZMPfUN2b10LO"
      }
    },
    {
      "cell_type": "code",
      "source": [
        "message = input(\"Enter a message: \")\n",
        "shift = int(input(\"Enter the shift value: \"))\n",
        "\n",
        "encrypted_message = \"\"\n",
        "\n",
        "for char in message:\n",
        "    if char.isalpha():\n",
        "        if char.isupper():\n",
        "            encrypted_char = chr((ord(char) - ord('A') + shift) % 26 + ord('A'))\n",
        "        else:\n",
        "            encrypted_char = chr((ord(char) - ord('a') + shift) % 26 + ord('a'))\n",
        "    else:\n",
        "        encrypted_char = char\n",
        "\n",
        "    encrypted_message += encrypted_char\n",
        "\n",
        "print(\"Encrypted message:\", encrypted_message)\n"
      ],
      "metadata": {
        "colab": {
          "base_uri": "https://localhost:8080/"
        },
        "id": "jQjKEb-v2Ll6",
        "outputId": "45f7110f-0efe-4174-8eed-4adb27866f8a"
      },
      "execution_count": 2,
      "outputs": [
        {
          "output_type": "stream",
          "name": "stdout",
          "text": [
            "Enter a message: Hi ! How are you?\n",
            "Enter the shift value: 5\n",
            "Encrypted message: Mn ! Mtb fwj dtz?\n"
          ]
        }
      ]
    },
    {
      "cell_type": "markdown",
      "source": [
        "#3. Strings and Number Systems:\n",
        "Write a Python program that prompts the user to enter a binary number. Convert the binary number to its decimal equivalent and print the result."
      ],
      "metadata": {
        "id": "hsG_uhyC2pzE"
      }
    },
    {
      "cell_type": "code",
      "source": [
        "binary = input(\"Enter a binary number: \")\n",
        "\n",
        "dec = 0\n",
        "power = len(binary) - 1\n",
        "\n",
        "for i in binary:\n",
        "    dec += int(i) * (2 ** power)\n",
        "    power -= 1\n",
        "\n",
        "print(\"Decimal equivalent:\", dec)\n"
      ],
      "metadata": {
        "colab": {
          "base_uri": "https://localhost:8080/"
        },
        "id": "ErPyu-2f26Uz",
        "outputId": "f7fcf7b7-e1a3-4a2f-a313-55e0ac3aca17"
      },
      "execution_count": 6,
      "outputs": [
        {
          "output_type": "stream",
          "name": "stdout",
          "text": [
            "Enter a binary number: 10\n",
            "Decimal equivalent: 2\n"
          ]
        }
      ]
    },
    {
      "cell_type": "markdown",
      "source": [
        "#4.String Methods:\n",
        "Write a Python program that prompts the user to enter a sentence. Use string methods to count the number of occurrences of a specific word in the sentence. Print the count"
      ],
      "metadata": {
        "id": "4RIkjtlF3jWd"
      }
    },
    {
      "cell_type": "code",
      "source": [
        "sentence = input(\"Enter a sentence: \")\n",
        "word = input(\"Enter a word to count: \")\n",
        "\n",
        "count = sentence.lower().count(word.lower())\n",
        "\n",
        "print(\"Count:\", count)\n"
      ],
      "metadata": {
        "colab": {
          "base_uri": "https://localhost:8080/"
        },
        "id": "vh1QiO2k3uNR",
        "outputId": "eb5f925d-31bd-4609-e7ec-86cfb2fa3cff"
      },
      "execution_count": 8,
      "outputs": [
        {
          "output_type": "stream",
          "name": "stdout",
          "text": [
            "Enter a sentence: hi,hi this is raju\n",
            "Enter a word to count: hi\n",
            "Count: 3\n"
          ]
        }
      ]
    },
    {
      "cell_type": "markdown",
      "source": [
        "#5.Text Files:\n",
        "Write a Python program that reads a text file and counts the occurrences of each word in the file. Store the word counts in a dictionary and print the results.\n"
      ],
      "metadata": {
        "id": "1EwEmpNO3jJ7"
      }
    },
    {
      "cell_type": "code",
      "source": [
        "file_name = input(\"Enter the file name: \")\n",
        "\n",
        "word_counts = {}\n",
        "\n",
        "with open(file_name, 'r') as file:\n",
        "    for line in file:\n",
        "        words = line.strip().split()\n",
        "        for word in words:\n",
        "            word = word.lower()\n",
        "            if word in word_counts:\n",
        "                word_counts[word] += 1\n",
        "            else:\n",
        "                word_counts[word] = 1\n",
        "\n",
        "print(\"Word counts:\")\n",
        "for word, count in word_counts.items():\n",
        "    print(word, \":\", count)\n"
      ],
      "metadata": {
        "colab": {
          "base_uri": "https://localhost:8080/",
          "height": 252
        },
        "id": "e2mWbLWb4hgY",
        "outputId": "36565ca0-339c-4303-f3d0-9d5ef7aef9ad"
      },
      "execution_count": 10,
      "outputs": [
        {
          "name": "stdout",
          "output_type": "stream",
          "text": [
            "Enter the file name: TravelApprovals.csv\n"
          ]
        },
        {
          "output_type": "error",
          "ename": "FileNotFoundError",
          "evalue": "ignored",
          "traceback": [
            "\u001b[0;31m---------------------------------------------------------------------------\u001b[0m",
            "\u001b[0;31mFileNotFoundError\u001b[0m                         Traceback (most recent call last)",
            "\u001b[0;32m<ipython-input-10-0ffc36dd6260>\u001b[0m in \u001b[0;36m<cell line: 5>\u001b[0;34m()\u001b[0m\n\u001b[1;32m      3\u001b[0m \u001b[0mword_counts\u001b[0m \u001b[0;34m=\u001b[0m \u001b[0;34m{\u001b[0m\u001b[0;34m}\u001b[0m\u001b[0;34m\u001b[0m\u001b[0;34m\u001b[0m\u001b[0m\n\u001b[1;32m      4\u001b[0m \u001b[0;34m\u001b[0m\u001b[0m\n\u001b[0;32m----> 5\u001b[0;31m \u001b[0;32mwith\u001b[0m \u001b[0mopen\u001b[0m\u001b[0;34m(\u001b[0m\u001b[0mfile_name\u001b[0m\u001b[0;34m,\u001b[0m \u001b[0;34m'r'\u001b[0m\u001b[0;34m)\u001b[0m \u001b[0;32mas\u001b[0m \u001b[0mfile\u001b[0m\u001b[0;34m:\u001b[0m\u001b[0;34m\u001b[0m\u001b[0;34m\u001b[0m\u001b[0m\n\u001b[0m\u001b[1;32m      6\u001b[0m     \u001b[0;32mfor\u001b[0m \u001b[0mline\u001b[0m \u001b[0;32min\u001b[0m \u001b[0mfile\u001b[0m\u001b[0;34m:\u001b[0m\u001b[0;34m\u001b[0m\u001b[0;34m\u001b[0m\u001b[0m\n\u001b[1;32m      7\u001b[0m         \u001b[0mwords\u001b[0m \u001b[0;34m=\u001b[0m \u001b[0mline\u001b[0m\u001b[0;34m.\u001b[0m\u001b[0mstrip\u001b[0m\u001b[0;34m(\u001b[0m\u001b[0;34m)\u001b[0m\u001b[0;34m.\u001b[0m\u001b[0msplit\u001b[0m\u001b[0;34m(\u001b[0m\u001b[0;34m)\u001b[0m\u001b[0;34m\u001b[0m\u001b[0;34m\u001b[0m\u001b[0m\n",
            "\u001b[0;31mFileNotFoundError\u001b[0m: [Errno 2] No such file or directory: 'TravelApprovals.csv'"
          ]
        }
      ]
    }
  ]
}