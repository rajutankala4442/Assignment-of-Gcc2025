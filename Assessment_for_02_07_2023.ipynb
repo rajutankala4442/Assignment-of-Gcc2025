{
  "nbformat": 4,
  "nbformat_minor": 0,
  "metadata": {
    "colab": {
      "provenance": [],
      "include_colab_link": true
    },
    "kernelspec": {
      "name": "python3",
      "display_name": "Python 3"
    },
    "language_info": {
      "name": "python"
    }
  },
  "cells": [
    {
      "cell_type": "markdown",
      "metadata": {
        "id": "view-in-github",
        "colab_type": "text"
      },
      "source": [
        "<a href=\"https://colab.research.google.com/github/rajutankala4442/Assignment-of-Gcc2025/blob/main/Assessment_for_02_07_2023.ipynb\" target=\"_parent\"><img src=\"https://colab.research.google.com/assets/colab-badge.svg\" alt=\"Open In Colab\"/></a>"
      ]
    },
    {
      "cell_type": "markdown",
      "source": [
        "#1. Introduction to Constants:\n",
        "Write a Python program that defines a constant value and uses it in calculations. Demonstrate how constants can be used to improve code readability and maintainability."
      ],
      "metadata": {
        "id": "Tw5eYttKkgI4"
      }
    },
    {
      "cell_type": "code",
      "source": [
        "pi=3.14159\n",
        "radius = 5\n",
        "area=pi*(radius**2)\n",
        "circumference=2*pi*radius\n",
        "print(\"Area:\",area)\n",
        "print(\"circumference:\",circumference)"
      ],
      "metadata": {
        "colab": {
          "base_uri": "https://localhost:8080/"
        },
        "id": "NOmSsUUqkfxl",
        "outputId": "748c90d5-f4f2-4d59-a53a-b6eeaedc64ca"
      },
      "execution_count": null,
      "outputs": [
        {
          "output_type": "stream",
          "name": "stdout",
          "text": [
            "Area: 78.53975\n",
            "circumference: 31.4159\n"
          ]
        }
      ]
    },
    {
      "cell_type": "markdown",
      "source": [
        "#2. Optimization with Optimizers:\n",
        "Write a Python program that uses an optimization algorithm, such as gradient descent or genetic algorithms, to find the minimum or maximum value of a mathematical function. Implement the algorithm using an optimizer library, such as scipy.optimize.\n"
      ],
      "metadata": {
        "id": "0EzlMAwRkedr"
      }
    },
    {
      "cell_type": "code",
      "source": [
        "import scipy.optimize as opt\n",
        "def obj(x):\n",
        "    return x**2+5*x+6\n",
        "result=opt.minimize(obj,0)\n",
        "print(\"Minimum value:\",result.fun)\n",
        "print(\"Optimal solution:\",result.x)"
      ],
      "metadata": {
        "colab": {
          "base_uri": "https://localhost:8080/"
        },
        "id": "z4SXRoqoke0O",
        "outputId": "6412cd1b-5ce7-47b3-84cb-33865c176c35"
      },
      "execution_count": null,
      "outputs": [
        {
          "output_type": "stream",
          "name": "stdout",
          "text": [
            "Minimum value: -0.2499999999999991\n",
            "Optimal solution: [-2.50000002]\n"
          ]
        }
      ]
    },
    {
      "cell_type": "markdown",
      "source": [
        "#3. Handling Sparse Data:\n",
        "Write a Python program that works with sparse data, such as a sparse matrix or sparse vectors. Perform operations on the sparse data, such as matrix multiplication or vector dot product, and demonstrate how to efficiently handle large, sparse datasets."
      ],
      "metadata": {
        "id": "auRueyotkdcw"
      }
    },
    {
      "cell_type": "code",
      "source": [
        "import numpy as np\n",
        "from scipy.sparse import csr_matrix\n",
        "data=np.array([1,2,3])\n",
        "row_i=np.array([0,1,2])\n",
        "col_i=np.array([1,2,0])\n",
        "sparse_matrix=csr_matrix((data, (row_i,col_i)),shape=(3, 3))\n",
        "dense_vector=np.array([1,2,3])\n",
        "result=sparse_matrix.dot(dense_vector)\n",
        "print(\"Result:\",result)"
      ],
      "metadata": {
        "colab": {
          "base_uri": "https://localhost:8080/"
        },
        "id": "FTjp0d5-kd7Q",
        "outputId": "c4be02c6-7afe-4d32-f5b1-f43612f75fc1"
      },
      "execution_count": null,
      "outputs": [
        {
          "output_type": "stream",
          "name": "stdout",
          "text": [
            "Result: [2 6 3]\n"
          ]
        }
      ]
    },
    {
      "cell_type": "markdown",
      "source": [
        "#4. Graph Representation and Algorithms:\n",
        "Write a Python program that represents a graph using data structures such as adjacency matrix or adjacency list. Implement common graph algorithms, such as breadth-first search or Dijkstra's algorithm, to solve graph-related problems."
      ],
      "metadata": {
        "id": "08if3yJjkdOU"
      }
    },
    {
      "cell_type": "code",
      "source": [
        "from collections import defaultdict\n",
        "g=defaultdict(list)\n",
        "g[0].append(1)\n",
        "g[1].append(2)\n",
        "g[2].append(3)\n",
        "g[3].append(4)\n",
        "g[4].append(0)\n",
        "def bfs(graph, s):\n",
        "    visited=set()\n",
        "    queue=[s]\n",
        "    while queue:\n",
        "        node=queue.pop(0)\n",
        "        if node not in visited:\n",
        "            print(node)\n",
        "            visited.add(node)\n",
        "            queue.extend(graph[node])\n",
        "bfs(g,0)"
      ],
      "metadata": {
        "colab": {
          "base_uri": "https://localhost:8080/"
        },
        "id": "ZRnuABmAkcy3",
        "outputId": "6c8e9888-d930-4af3-8da1-805e2f5a82c5"
      },
      "execution_count": null,
      "outputs": [
        {
          "output_type": "stream",
          "name": "stdout",
          "text": [
            "0\n",
            "1\n",
            "2\n",
            "3\n",
            "4\n"
          ]
        }
      ]
    },
    {
      "cell_type": "markdown",
      "source": [
        "#5. Spatial Data Analysis:\n",
        "Write a Python program that analyzes spatial data, such as geographical coordinates or shapefiles. Perform operations on the spatial data, such as calculating distances between points or overlaying spatial layers, and visualize the results using libraries like GeoPandas or Matplotlib."
      ],
      "metadata": {
        "id": "mTnxLWFtkclG"
      }
    },
    {
      "cell_type": "code",
      "source": [
        "import geopandas as gpd\n",
        "import matplotlib.pyplot as plt\n",
        "data=gpd.read_file(\"path/to/shapefile.shp\")\n",
        "point1=data.geometry.iloc[0]\n",
        "point2=data.geometry.iloc[1]\n",
        "distance=point1.distance(point2)\n",
        "print(\"Distance:\", distance)\n",
        "data.plot()\n",
        "plt.show()"
      ],
      "metadata": {
        "id": "6kzQEkj-kcWg"
      },
      "execution_count": null,
      "outputs": []
    },
    {
      "cell_type": "markdown",
      "source": [
        "#6. Interpolation:\n",
        "Write a Python program that performs interpolation on a given dataset. Use interpolation methods such as linear interpolation or spline interpolation to estimate values between known data points."
      ],
      "metadata": {
        "id": "Lp0SNZyakcEk"
      }
    },
    {
      "cell_type": "code",
      "execution_count": null,
      "metadata": {
        "colab": {
          "base_uri": "https://localhost:8080/"
        },
        "id": "ZF4GWd16kahj",
        "outputId": "7b26f44d-4369-4178-d0a7-a060d765f5e0"
      },
      "outputs": [
        {
          "output_type": "stream",
          "name": "stdout",
          "text": [
            "Linear interpolation result: 5.0\n",
            "Spline interpolation result: 5.0\n"
          ]
        }
      ],
      "source": [
        "from scipy.interpolate import interp1d\n",
        "x = [0,1,2,3,4]\n",
        "y = [0,2,4,6,8]\n",
        "lin_interp=interp1d(x, y)\n",
        "lin_r=lin_interp(2.5)\n",
        "print(\"Linear interpolation result:\",lin_r)\n",
        "spln_interp=interp1d(x,y,kind=\"cubic\")\n",
        "spln_r=spln_interp(2.5)\n",
        "print(\"Spline interpolation result:\", spln_r)"
      ]
    },
    {
      "cell_type": "markdown",
      "source": [
        "#7. Significance Tests:\n",
        "Write a Python program that performs significance tests on data to determine if there is a statistically significant difference between groups. Implement common significance tests such as t-tests or chi-square tests using libraries like SciPy or StatsModels."
      ],
      "metadata": {
        "id": "_QL0LSNzwUFD"
      }
    },
    {
      "cell_type": "code",
      "source": [
        "import scipy.stats as stats\n",
        "group1=[1,2,3,4,5]\n",
        "group2=[2,4,6,8,10]\n",
        "t_statistic,p_value=stats.ttest_ind(group1,group2)\n",
        "print(\"T-statistic:\",t_statistic)\n",
        "print(\"P-value:\",p_value)\n",
        "observed=[10,20,30]\n",
        "expected=[15,15,30]\n",
        "chi_statistic,p_value=stats.chisquare(observed,expected)\n",
        "print(\"Chi-square statistic:\",chi_statistic)\n",
        "print(\"P-value:\",p_value)"
      ],
      "metadata": {
        "colab": {
          "base_uri": "https://localhost:8080/"
        },
        "id": "xqiqdd9DwTw2",
        "outputId": "70f9c061-5500-4916-b4b4-bd4b315a0fde"
      },
      "execution_count": null,
      "outputs": [
        {
          "output_type": "stream",
          "name": "stdout",
          "text": [
            "T-statistic: -1.8973665961010275\n",
            "P-value: 0.09434977284243756\n",
            "Chi-square statistic: 3.3333333333333335\n",
            "P-value: 0.1888756028375618\n"
          ]
        }
      ]
    }
  ]
}