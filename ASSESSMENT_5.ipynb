{
  "nbformat": 4,
  "nbformat_minor": 0,
  "metadata": {
    "colab": {
      "provenance": [],
      "authorship_tag": "ABX9TyMxlwz+jc10y2fEo0WLGbGG",
      "include_colab_link": true
    },
    "kernelspec": {
      "name": "python3",
      "display_name": "Python 3"
    },
    "language_info": {
      "name": "python"
    }
  },
  "cells": [
    {
      "cell_type": "markdown",
      "metadata": {
        "id": "view-in-github",
        "colab_type": "text"
      },
      "source": [
        "<a href=\"https://colab.research.google.com/github/rajutankala4442/Assignment-of-Gcc2025/blob/main/ASSESSMENT_5.ipynb\" target=\"_parent\"><img src=\"https://colab.research.google.com/assets/colab-badge.svg\" alt=\"Open In Colab\"/></a>"
      ]
    },
    {
      "cell_type": "markdown",
      "source": [
        "#1. Accessing Elements in a List:\n",
        "Write a Python program that creates a list of numbers. Prompt the user to enter an index and print the element at that index in the list."
      ],
      "metadata": {
        "id": "jxrXr4V6zade"
      }
    },
    {
      "cell_type": "code",
      "execution_count": 2,
      "metadata": {
        "colab": {
          "base_uri": "https://localhost:8080/"
        },
        "id": "lH84DQ3_zYL-",
        "outputId": "3ad79717-6ac2-4fb7-d71d-b7e2e860b567"
      },
      "outputs": [
        {
          "output_type": "stream",
          "name": "stdout",
          "text": [
            "Enter an index: 5\n",
            "Invalid index!\n"
          ]
        }
      ],
      "source": [
        "def list():\n",
        "\n",
        "    numbers = [10, 20, 30, 40, 50]\n",
        "    index = int(input(\"Enter an index: \"))\n",
        "    if index < 0 or index >= len(numbers):\n",
        "        print(\"Invalid index!\")\n",
        "    else:\n",
        "        element = numbers[index]\n",
        "        print(\"Element at index\", index, \"is\", element)\n",
        "\n",
        "list()\n"
      ]
    },
    {
      "cell_type": "markdown",
      "source": [
        "#2. Modifying Elements in a Dictionary:\n",
        "Write a Python program that creates a dictionary of student names and their corresponding grades. Prompt the user to enter a student name and their new grade. Update the grade in the dictionary and print the updated dictionary"
      ],
      "metadata": {
        "id": "k3Gry-YW05e5"
      }
    },
    {
      "cell_type": "code",
      "source": [
        "def update_grades():\n",
        "    grades = {}\n",
        "    grades[\"tulasi\"] = 90\n",
        "    grades[\"krishna\"] = 85\n",
        "    grades[\"dhana laxmi\"] = 95\n",
        "    name = input(\"Enter a student name: \")\n",
        "    new_grade = int(input(\"Enter the new grade: \"))\n",
        "    grades[name] = new_grade\n",
        "    print(\"Updated grades:\", grades)\n",
        "\n",
        "update_grades()\n"
      ],
      "metadata": {
        "colab": {
          "base_uri": "https://localhost:8080/"
        },
        "id": "G-230AbM1xoW",
        "outputId": "1914dc3c-556b-4377-b6c8-461079e42fa7"
      },
      "execution_count": 4,
      "outputs": [
        {
          "output_type": "stream",
          "name": "stdout",
          "text": [
            "Enter a student name: raju\n",
            "Enter the new grade: 98\n",
            "Updated grades: {'tulasi': 90, 'krishna': 85, 'dhana laxmi': 95, 'raju': 98}\n"
          ]
        }
      ]
    },
    {
      "cell_type": "markdown",
      "source": [
        "# 3.Deleting Elements from a Set:\n",
        "Write a Python program that creates a set of names. Prompt the user to enter a name and delete that name from the set. Print the updated set without the deleted name."
      ],
      "metadata": {
        "id": "_TbQCaic2VK_"
      }
    },
    {
      "cell_type": "code",
      "source": [
        "def delete_name():\n",
        "\n",
        "    names = {\"TULASI\",\"RAJU\",\"KRISHNA\",\"DHANA LAXMI\"}\n",
        "    name = input(\"Enter a name to delete: \")\n",
        "    if name in names:\n",
        "        names.remove(name)\n",
        "        print(\"Name deleted successfully!\")\n",
        "    else:\n",
        "        print(\"Name not found in the set!\")\n",
        "\n",
        "\n",
        "    print(\"Updated set:\", names)\n",
        "\n",
        "delete_name()\n"
      ],
      "metadata": {
        "colab": {
          "base_uri": "https://localhost:8080/"
        },
        "id": "HlNSWdSX3Rm_",
        "outputId": "d896191d-234b-49ad-a8a5-4295f8f7b73c"
      },
      "execution_count": 5,
      "outputs": [
        {
          "output_type": "stream",
          "name": "stdout",
          "text": [
            "Enter a name to delete: RAJU\n",
            "Name deleted successfully!\n",
            "Updated set: {'TULASI', 'KRISHNA', 'DHANA LAXMI'}\n"
          ]
        }
      ]
    },
    {
      "cell_type": "markdown",
      "source": [
        "# 4.Performing Arithmetic Operations on Numbers:\n",
        "Write a Python program that prompts the user to enter two numbers. Perform addition, subtraction, multiplication, and division on the numbers, and print the results"
      ],
      "metadata": {
        "id": "boSM-vEL3_jQ"
      }
    },
    {
      "cell_type": "code",
      "source": [
        "\n",
        "    num1 = float(input(\"Enter the first number: \"))\n",
        "    num2 = float(input(\"Enter the second number: \"))\n",
        "\n",
        "\n",
        "    addition = num1 + num2\n",
        "\n",
        "\n",
        "    subtraction = num1 - num2\n",
        "\n",
        "\n",
        "    multiplication = num1 * num2\n",
        "\n",
        "\n",
        "    division = num1 / num2\n",
        "\n",
        "\n",
        "    print(\"Addition:\", addition)\n",
        "    print(\"Subtraction:\", subtraction)\n",
        "    print(\"Multiplication:\", multiplication)\n",
        "    print(\"Division:\", division)\n"
      ],
      "metadata": {
        "colab": {
          "base_uri": "https://localhost:8080/"
        },
        "id": "HiqZWQZa4xJ2",
        "outputId": "a3715b8d-94cf-4ead-9428-d066906f4750"
      },
      "execution_count": 6,
      "outputs": [
        {
          "output_type": "stream",
          "name": "stdout",
          "text": [
            "Enter the first number: 5.25\n",
            "Enter the second number: 8.6\n",
            "Addition: 13.85\n",
            "Subtraction: -3.3499999999999996\n",
            "Multiplication: 45.15\n",
            "Division: 0.6104651162790697\n"
          ]
        }
      ]
    },
    {
      "cell_type": "markdown",
      "source": [
        "#5.String Concatenation and Slicing:\n",
        "Write a Python program that prompts the user to enter a sentence. Concatenate the sentence with a specific word. Then, use string slicing to extract a substring from the concatenated sentence and print it"
      ],
      "metadata": {
        "id": "JErtYVna5Bzy"
      }
    },
    {
      "cell_type": "code",
      "source": [
        "    sentence = input(\"Enter a sentence: \")\n",
        "    specific_word = \"example\"\n",
        "    concatenated_sentence = sentence + \" \" + specific_word\n",
        "    start_index = 3\n",
        "    end_index = 9\n",
        "    extracted_substring = concatenated_sentence[start_index:end_index]\n",
        "    print(\"Extracted substring:\", extracted_substring)\n",
        "\n",
        "\n"
      ],
      "metadata": {
        "colab": {
          "base_uri": "https://localhost:8080/"
        },
        "id": "2vERdPuz5qXU",
        "outputId": "c945e4be-fdea-47c5-ade9-80ec3dc19f60"
      },
      "execution_count": 7,
      "outputs": [
        {
          "output_type": "stream",
          "name": "stdout",
          "text": [
            "Enter a sentence: HI ! RAJU HOW ARE YOU\n",
            "Extracted substring: ! RAJU\n"
          ]
        }
      ]
    }
  ]
}