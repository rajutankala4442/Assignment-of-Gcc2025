{
  "nbformat": 4,
  "nbformat_minor": 0,
  "metadata": {
    "colab": {
      "provenance": [],
      "authorship_tag": "ABX9TyMI0g4kZ/mypeF/t9dEaJlu",
      "include_colab_link": true
    },
    "kernelspec": {
      "name": "python3",
      "display_name": "Python 3"
    },
    "language_info": {
      "name": "python"
    }
  },
  "cells": [
    {
      "cell_type": "markdown",
      "metadata": {
        "id": "view-in-github",
        "colab_type": "text"
      },
      "source": [
        "<a href=\"https://colab.research.google.com/github/rajutankala4442/Assignment-of-Gcc2025/blob/main/ASSESSMENT_06.ipynb\" target=\"_parent\"><img src=\"https://colab.research.google.com/assets/colab-badge.svg\" alt=\"Open In Colab\"/></a>"
      ]
    },
    {
      "cell_type": "code",
      "execution_count": 1,
      "metadata": {
        "colab": {
          "base_uri": "https://localhost:8080/"
        },
        "id": "G3CL8srzO4nB",
        "outputId": "0eee8949-e5ee-4686-a27c-2d82af09d70c"
      },
      "outputs": [
        {
          "output_type": "stream",
          "name": "stdout",
          "text": [
            "Enter a number: 6\n",
            "The factorial of 6 is: 720\n"
          ]
        }
      ],
      "source": [
        "def factorial(n):\n",
        "    result = 1\n",
        "    for i in range(1, n + 1):\n",
        "        result *= i\n",
        "    return result\n",
        "\n",
        "# Prompt the user for a number\n",
        "number = int(input(\"Enter a number: \"))\n",
        "\n",
        "# Calculate the factorial\n",
        "result = factorial(number)\n",
        "\n",
        "# Print the factorial\n",
        "print(f\"The factorial of {number} is: {result}\")\n"
      ]
    },
    {
      "cell_type": "code",
      "source": [
        "def extract_digits(number):\n",
        "    digits = []\n",
        "    while number > 0:\n",
        "        digit = number % 10\n",
        "        digits.append(digit)\n",
        "        number //= 10\n",
        "    return digits\n",
        "\n",
        "def sum_digits(digits):\n",
        "    return sum(digits)\n",
        "\n",
        "# Prompt the user for a number\n",
        "number = int(input(\"Enter a number: \"))\n",
        "\n",
        "# Extract the digits\n",
        "digit_list = extract_digits(number)\n",
        "\n",
        "# Calculate the sum of digits\n",
        "digit_sum = sum_digits(digit_list)\n",
        "\n",
        "# Print the result\n",
        "print(f\"The sum of the digits of {number} is: {digit_sum}\")\n"
      ],
      "metadata": {
        "colab": {
          "base_uri": "https://localhost:8080/"
        },
        "id": "6ujvTRcJPPn-",
        "outputId": "82f3fd0e-aa7b-48bf-af80-f76878668358"
      },
      "execution_count": 2,
      "outputs": [
        {
          "output_type": "stream",
          "name": "stdout",
          "text": [
            "Enter a number: 42150\n",
            "The sum of the digits of 42150 is: 12\n"
          ]
        }
      ]
    },
    {
      "cell_type": "code",
      "source": [
        "def fibonacci(n):\n",
        "    if n <= 0:\n",
        "        return []\n",
        "    elif n == 1:\n",
        "        return [0]\n",
        "    elif n == 2:\n",
        "        return [0, 1]\n",
        "    else:\n",
        "        sequence = fibonacci(n - 1)\n",
        "        next_number = sequence[-1] + sequence[-2]\n",
        "        sequence.append(next_number)\n",
        "        return sequence\n",
        "\n",
        "# Prompt the user for a number\n",
        "number = int(input(\"Enter a number: \"))\n",
        "\n",
        "# Calculate the Fibonacci sequence\n",
        "fib_sequence = fibonacci(number)\n",
        "\n",
        "# Print the Fibonacci sequence\n",
        "print(\"Fibonacci sequence:\")\n",
        "for num in fib_sequence:\n",
        "    print(num, end=\" \")\n"
      ],
      "metadata": {
        "colab": {
          "base_uri": "https://localhost:8080/"
        },
        "id": "j7EVOc6ZPPkX",
        "outputId": "9d0bd4dc-a0f3-4ec8-a218-8ce45f253c17"
      },
      "execution_count": 4,
      "outputs": [
        {
          "output_type": "stream",
          "name": "stdout",
          "text": [
            "Enter a number: 5\n",
            "Fibonacci sequence:\n",
            "0 1 1 2 3 "
          ]
        }
      ]
    },
    {
      "cell_type": "code",
      "source": [
        "import os\n",
        "\n",
        "def list_files(directory):\n",
        "    for root, dirs, files in os.walk(directory):\n",
        "        for file in files:\n",
        "            print(os.path.join(root, file))\n",
        "\n",
        "def list_directories(directory):\n",
        "    for root, dirs, files in os.walk(directory):\n",
        "        for dir in dirs:\n",
        "            print(os.path.join(root, dir))\n",
        "\n",
        "# Prompt the user for a directory path\n",
        "path = input(\"Enter a directory path: \")\n",
        "\n",
        "# Validate the directory path\n",
        "if not os.path.isdir(path):\n",
        "    print(\"Invalid directory path.\")\n",
        "else:\n",
        "    # List files and directories\n",
        "    print(\"Files:\")\n",
        "    list_files(path)\n",
        "\n",
        "    print(\"\\nDirectories:\")\n",
        "    list_directories(path)\n"
      ],
      "metadata": {
        "colab": {
          "base_uri": "https://localhost:8080/"
        },
        "id": "ohF8ReAzPPfx",
        "outputId": "071bfbc0-d39b-426f-d781-cf5d49beb5cb"
      },
      "execution_count": 5,
      "outputs": [
        {
          "output_type": "stream",
          "name": "stdout",
          "text": [
            "Enter a directory path: 5551\n",
            "Invalid directory path.\n"
          ]
        }
      ]
    },
    {
      "cell_type": "code",
      "source": [
        "import os\n",
        "\n",
        "def list_files_and_directories(path):\n",
        "    for item in os.listdir(path):\n",
        "        item_path = os.path.join(path, item)\n",
        "        if os.path.isfile(item_path):\n",
        "            print(\"File:\", item_path)\n",
        "        elif os.path.isdir(item_path):\n",
        "            print(\"Directory:\", item_path)\n",
        "            list_files_and_directories(item_path)\n",
        "\n",
        "def main():\n",
        "    directory_path = input(\"Enter the directory path: \")\n",
        "    if os.path.isdir(directory_path):\n",
        "        list_files_and_directories(directory_path)\n",
        "    else:\n",
        "        print(\"Invalid directory path.\")\n",
        "\n",
        "if __name__== \"_main_\":\n",
        "    main()"
      ],
      "metadata": {
        "id": "IJN3MtsXRKak"
      },
      "execution_count": 8,
      "outputs": []
    },
    {
      "cell_type": "code",
      "source": [
        "def map_function(func, lst):\n",
        "    result = []\n",
        "    for item in lst:\n",
        "        result.append(func(item))\n",
        "    return result\n",
        "\n",
        "# Example function to be applied\n",
        "def square(x):\n",
        "    return x ** 2\n",
        "\n",
        "# Example list\n",
        "numbers = [1, 2, 3, 4, 5]\n",
        "\n",
        "# Apply the map function to square each number\n",
        "squared_numbers = map_function(square, numbers)\n",
        "\n",
        "# Print the result\n",
        "print(squared_numbers)\n"
      ],
      "metadata": {
        "colab": {
          "base_uri": "https://localhost:8080/"
        },
        "id": "mfi8P-iURaZu",
        "outputId": "1ed73d4c-15a6-44cb-daf6-6293c8e61a88"
      },
      "execution_count": 9,
      "outputs": [
        {
          "output_type": "stream",
          "name": "stdout",
          "text": [
            "[1, 4, 9, 16, 25]\n"
          ]
        }
      ]
    }
  ]
}